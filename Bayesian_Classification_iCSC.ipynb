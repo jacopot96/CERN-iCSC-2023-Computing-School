{
  "cells": [
    {
      "cell_type": "markdown",
      "metadata": {
        "id": "view-in-github",
        "colab_type": "text"
      },
      "source": [
        "<a href=\"https://colab.research.google.com/github/jacopot96/CERN-iCSC-2023-Computing-School/blob/main/Bayesian_Classification_iCSC.ipynb\" target=\"_parent\"><img src=\"https://colab.research.google.com/assets/colab-badge.svg\" alt=\"Open In Colab\"/></a>"
      ]
    },
    {
      "cell_type": "code",
      "source": [
        "import numpy as np\n",
        "from numpy import where\n",
        "from numpy import meshgrid\n",
        "from numpy import arange\n",
        "from numpy import hstack\n",
        "from sklearn.metrics import accuracy_score\n",
        "from sklearn.datasets import make_blobs\n",
        "from sklearn.linear_model import LogisticRegression\n",
        "import matplotlib.pyplot as plt\n",
        "from sklearn.model_selection import train_test_split\n",
        "from sklearn.preprocessing import StandardScaler\n",
        "from tensorflow.keras.models import Sequential\n",
        "from tensorflow.keras.layers import Dense\n",
        "import sklearn.datasets as datasets\n",
        "from scipy.stats import entropy\n",
        "\n",
        "import tensorflow_probability as tfp"
      ],
      "metadata": {
        "id": "Paj6Z_wtFG6X"
      },
      "execution_count": 1,
      "outputs": []
    },
    {
      "cell_type": "markdown",
      "metadata": {
        "id": "ct7-IXmkg1NL"
      },
      "source": [
        "**Data  Generation**\n",
        "\n",
        "Two moons dataset: https://scikit-learn.org/stable/modules/generated/sklearn.datasets.make_moons.html"
      ]
    },
    {
      "cell_type": "code",
      "execution_count": 2,
      "metadata": {
        "colab": {
          "base_uri": "https://localhost:8080/",
          "height": 282
        },
        "id": "eW54DDONg3jM",
        "outputId": "ca021632-96bb-4c1d-c426-0fc914529569"
      },
      "outputs": [
        {
          "output_type": "stream",
          "name": "stdout",
          "text": [
            "(1000, 2)\n"
          ]
        },
        {
          "output_type": "display_data",
          "data": {
            "text/plain": [
              "<Figure size 432x288 with 1 Axes>"
            ],
            "image/png": "[encoded data removed]"
          },
          "metadata": {
            "needs_background": "light"
          }
        }
      ],
      "source": [
        "\n",
        "# generate dataset\n",
        "cent=[[-1, -1], [1, 1]]\n",
        "Ndata=1000\n",
        "\n",
        "X, Y = datasets.make_moons(Ndata, noise=0.20, random_state=6)\n",
        "\n",
        "# train test split\n",
        "X_tr, X_te, y_tr, y_te = train_test_split(X, Y, test_size=0.4, random_state=42) \n",
        "print(X.shape)\n",
        "\n",
        "# create scatter plot for samples from each class\n",
        "for class_value in range(2):\n",
        "\trow_ix = where(Y == class_value)\n",
        "\tplt.scatter(X[row_ix, 0], X[row_ix, 1])\n",
        "\n"
      ]
    },
    {
      "cell_type": "markdown",
      "metadata": {
        "id": "Qtj5fPZIhGxv"
      },
      "source": [
        "# MLP Bayes\n",
        "\n",
        "Implementation based on https://www.tensorflow.org/probability/overview?hl=it\n",
        "\\\n",
        "Layers based on https://www.tensorflow.org/probability/api_docs/python/tfp/layers/DenseFlipout with Multivariate Normal p.d.f. as priors"
      ]
    },
    {
      "cell_type": "code",
      "execution_count": 3,
      "metadata": {
        "id": "qicqJu-wg3mD"
      },
      "outputs": [],
      "source": [
        "\n",
        "# Bayesian MLP based on Variational Inference \n",
        "\n",
        "kernel_divergence_fn=lambda q, p, _: tfp.distributions.kl_divergence(q, p) / (X_tr.shape[0] *1.0)\n",
        "bias_divergence_fn=lambda q, p, _: tfp.distributions.kl_divergence(q, p) / (X_tr.shape[0] * 1.0)\n",
        "\n",
        "\n",
        "def model():\n",
        "  model_vi = Sequential()\n",
        "  model_vi.add(tfp.layers.DenseFlipout(16, activation = 'relu', bias_prior_fn=tfp.layers.default_multivariate_normal_fn,kernel_divergence_fn=kernel_divergence_fn,bias_divergence_fn=bias_divergence_fn)) \n",
        "  model_vi.add(tfp.layers.DenseFlipout(16, activation = 'relu', bias_prior_fn=tfp.layers.default_multivariate_normal_fn,kernel_divergence_fn=kernel_divergence_fn,bias_divergence_fn=bias_divergence_fn))\n",
        "  model_vi.add(tfp.layers.DenseFlipout(16, activation = 'relu', bias_prior_fn=tfp.layers.default_multivariate_normal_fn,kernel_divergence_fn=kernel_divergence_fn,bias_divergence_fn=bias_divergence_fn))\n",
        "  model_vi.add(tfp.layers.DenseFlipout(1, activation = 'sigmoid', bias_prior_fn=tfp.layers.default_multivariate_normal_fn,kernel_divergence_fn=kernel_divergence_fn,bias_divergence_fn=bias_divergence_fn))\n",
        "\n",
        "\n",
        "  model_vi.compile(loss='binary_crossentropy', optimizer=\"adam\", metrics=['accuracy'])\n",
        "  return model_vi\n",
        "\n",
        "model_vi=model()\n"
      ]
    },
    {
      "cell_type": "markdown",
      "source": [
        "### Check of the Priors\n",
        "\n",
        "Before training the MLP, we can check the predictions on the training set by sampling the parameters of the network from the priors. With reasonable priors we could expect a flat distribution as output. "
      ],
      "metadata": {
        "id": "mGIupruGhnSW"
      }
    },
    {
      "cell_type": "code",
      "source": [
        "#If not, we can try to change the covariance matrix of the gaussian pdf priors, as done for the hyperparameter of the L2 regularization techinque."
      ],
      "metadata": {
        "id": "46MuGOT_Sr4Z"
      },
      "execution_count": 4,
      "outputs": []
    },
    {
      "cell_type": "code",
      "source": [
        "model_vi=model()\n",
        "A=[] #for test samples\n",
        "for i in range(50): #50 forward passes for the same input\n",
        "  preds=model_vi.predict(X_tr)\n",
        "  aux=np.array(preds).reshape(len(preds),1)\n",
        "  aux2=np.concatenate((aux, 1-aux), axis=1)\n",
        "  A.append(aux2)\n",
        "\n",
        "final=np.mean(np.array(A),axis=0)\n",
        "print(final.shape)\n",
        "\n",
        "\n",
        "ent=entropy(final,axis=1)"
      ],
      "metadata": {
        "colab": {
          "base_uri": "https://localhost:8080/"
        },
        "id": "n9kt8unSOdFY",
        "outputId": "af5e9d54-2ec4-499b-817e-b29788962c36"
      },
      "execution_count": 5,
      "outputs": [
        {
          "output_type": "stream",
          "name": "stderr",
          "text": [
            "/usr/local/lib/python3.9/dist-packages/tensorflow_probability/python/layers/util.py:95: UserWarning: `layer.add_variable` is deprecated and will be removed in a future version. Please use the `layer.add_weight()` method instead.\n",
            "  loc = add_variable_fn(\n",
            "/usr/local/lib/python3.9/dist-packages/tensorflow_probability/python/layers/util.py:105: UserWarning: `layer.add_variable` is deprecated and will be removed in a future version. Please use the `layer.add_weight()` method instead.\n",
            "  untransformed_scale = add_variable_fn(\n"
          ]
        },
        {
          "output_type": "stream",
          "name": "stdout",
          "text": [
            "19/19 [==============================] - 5s 6ms/step\n",
            "19/19 [==============================] - 0s 4ms/step\n",
            "19/19 [==============================] - 0s 4ms/step\n",
            "19/19 [==============================] - 0s 5ms/step\n",
            "19/19 [==============================] - 0s 4ms/step\n",
            "19/19 [==============================] - 0s 4ms/step\n",
            "19/19 [==============================] - 0s 9ms/step\n",
            "19/19 [==============================] - 0s 7ms/step\n",
            "19/19 [==============================] - 0s 6ms/step\n",
            "19/19 [==============================] - 0s 6ms/step\n",
            "19/19 [==============================] - 0s 5ms/step\n",
            "19/19 [==============================] - 0s 4ms/step\n",
            "19/19 [==============================] - 0s 5ms/step\n",
            "19/19 [==============================] - 0s 5ms/step\n",
            "19/19 [==============================] - 0s 3ms/step\n",
            "19/19 [==============================] - 0s 6ms/step\n",
            "19/19 [==============================] - 0s 4ms/step\n",
            "19/19 [==============================] - 0s 6ms/step\n",
            "19/19 [==============================] - 0s 7ms/step\n",
            "19/19 [==============================] - 0s 3ms/step\n",
            "19/19 [==============================] - 0s 3ms/step\n",
            "19/19 [==============================] - 0s 4ms/step\n",
            "19/19 [==============================] - 0s 6ms/step\n",
            "19/19 [==============================] - 0s 8ms/step\n",
            "19/19 [==============================] - 0s 5ms/step\n",
            "19/19 [==============================] - 0s 4ms/step\n",
            "19/19 [==============================] - 0s 6ms/step\n",
            "19/19 [==============================] - 0s 5ms/step\n",
            "19/19 [==============================] - 0s 4ms/step\n",
            "19/19 [==============================] - 0s 4ms/step\n",
            "19/19 [==============================] - 0s 5ms/step\n",
            "19/19 [==============================] - 0s 4ms/step\n",
            "19/19 [==============================] - 0s 7ms/step\n",
            "19/19 [==============================] - 0s 5ms/step\n",
            "19/19 [==============================] - 0s 5ms/step\n",
            "19/19 [==============================] - 0s 6ms/step\n",
            "19/19 [==============================] - 0s 5ms/step\n",
            "19/19 [==============================] - 0s 7ms/step\n",
            "19/19 [==============================] - 0s 2ms/step\n",
            "19/19 [==============================] - 0s 5ms/step\n",
            "19/19 [==============================] - 0s 4ms/step\n",
            "19/19 [==============================] - 0s 4ms/step\n",
            "19/19 [==============================] - 0s 4ms/step\n",
            "19/19 [==============================] - 0s 5ms/step\n",
            "19/19 [==============================] - 0s 5ms/step\n",
            "19/19 [==============================] - 0s 5ms/step\n",
            "19/19 [==============================] - 0s 5ms/step\n",
            "19/19 [==============================] - 0s 3ms/step\n",
            "19/19 [==============================] - 0s 4ms/step\n",
            "19/19 [==============================] - 0s 3ms/step\n",
            "(600, 2)\n"
          ]
        }
      ]
    },
    {
      "cell_type": "code",
      "source": [
        "#histogram of the entropies computed on the training set\n",
        "print('Ent of a flat distribution',entropy([0.5,0.5]))\n",
        "print('Mean ent of the data',np.mean(ent))\n",
        "print(final)\n",
        "plt.hist(ent)\n",
        "plt.ylabel('Counts')\n",
        "plt.xlabel('Ent');"
      ],
      "metadata": {
        "colab": {
          "base_uri": "https://localhost:8080/",
          "height": 432
        },
        "id": "c39-vc4LPgtz",
        "outputId": "90d37fc6-ccbc-46d5-9124-ac7beab50fa4"
      },
      "execution_count": 6,
      "outputs": [
        {
          "output_type": "stream",
          "name": "stdout",
          "text": [
            "Ent of a flat distribution 0.6931471805599453\n",
            "Mean ent of the data 0.6919357\n",
            "[[0.47595668 0.5240433 ]\n",
            " [0.47587827 0.5241217 ]\n",
            " [0.47486064 0.52513933]\n",
            " ...\n",
            " [0.47467884 0.5253212 ]\n",
            " [0.4768821  0.523118  ]\n",
            " [0.4776463  0.52235377]]\n"
          ]
        },
        {
          "output_type": "display_data",
          "data": {
            "text/plain": [
              "<Figure size 432x288 with 1 Axes>"
            ],
            "image/png": "[encoded data removed]"
          },
          "metadata": {
            "needs_background": "light"
          }
        }
      ]
    },
    {
      "cell_type": "markdown",
      "source": [
        "## Train"
      ],
      "metadata": {
        "id": "TkvO_dumhcxj"
      }
    },
    {
      "cell_type": "code",
      "source": [
        "model_vi.fit(X_tr, y_tr, epochs=150, batch_size=32,validation_data=(X_te, y_te))\n",
        "model_vi.summary()"
      ],
      "metadata": {
        "id": "fuaAV2bshcIM",
        "colab": {
          "base_uri": "https://localhost:8080/"
        },
        "outputId": "997b453a-61e0-47f9-b0b6-87dc742cf1ec"
      },
      "execution_count": 7,
      "outputs": [
        {
          "output_type": "stream",
          "name": "stdout",
          "text": [
            "Epoch 1/150\n",
            "19/19 [==============================] - 9s 83ms/step - loss: 3.1298 - accuracy: 0.5000 - val_loss: 3.1186 - val_accuracy: 0.5000\n",
            "Epoch 2/150\n",
            "19/19 [==============================] - 0s 10ms/step - loss: 3.1095 - accuracy: 0.5000 - val_loss: 3.0986 - val_accuracy: 0.5000\n",
            "Epoch 3/150\n",
            "19/19 [==============================] - 0s 8ms/step - loss: 3.0883 - accuracy: 0.4983 - val_loss: 3.0742 - val_accuracy: 0.5075\n",
            "Epoch 4/150\n",
            "19/19 [==============================] - 0s 7ms/step - loss: 3.0613 - accuracy: 0.5750 - val_loss: 3.0408 - val_accuracy: 0.6725\n",
            "Epoch 5/150\n",
            "19/19 [==============================] - 0s 10ms/step - loss: 3.0235 - accuracy: 0.7867 - val_loss: 2.9896 - val_accuracy: 0.8500\n",
            "Epoch 6/150\n",
            "19/19 [==============================] - 0s 10ms/step - loss: 2.9676 - accuracy: 0.8300 - val_loss: 2.9174 - val_accuracy: 0.8650\n",
            "Epoch 7/150\n",
            "19/19 [==============================] - 0s 10ms/step - loss: 2.8906 - accuracy: 0.8300 - val_loss: 2.8084 - val_accuracy: 0.8675\n",
            "Epoch 8/150\n",
            "19/19 [==============================] - 0s 8ms/step - loss: 2.7843 - accuracy: 0.8250 - val_loss: 2.6954 - val_accuracy: 0.8750\n",
            "Epoch 9/150\n",
            "19/19 [==============================] - 0s 7ms/step - loss: 2.7006 - accuracy: 0.8250 - val_loss: 2.6258 - val_accuracy: 0.8775\n",
            "Epoch 10/150\n",
            "19/19 [==============================] - 0s 7ms/step - loss: 2.6514 - accuracy: 0.8333 - val_loss: 2.5784 - val_accuracy: 0.8850\n",
            "Epoch 11/150\n",
            "19/19 [==============================] - 0s 9ms/step - loss: 2.6194 - accuracy: 0.8317 - val_loss: 2.5500 - val_accuracy: 0.8925\n",
            "Epoch 12/150\n",
            "19/19 [==============================] - 0s 7ms/step - loss: 2.5933 - accuracy: 0.8400 - val_loss: 2.5234 - val_accuracy: 0.8850\n",
            "Epoch 13/150\n",
            "19/19 [==============================] - 0s 8ms/step - loss: 2.5842 - accuracy: 0.8367 - val_loss: 2.4999 - val_accuracy: 0.8925\n",
            "Epoch 14/150\n",
            "19/19 [==============================] - 0s 8ms/step - loss: 2.5555 - accuracy: 0.8350 - val_loss: 2.4861 - val_accuracy: 0.8925\n",
            "Epoch 15/150\n",
            "19/19 [==============================] - 0s 9ms/step - loss: 2.5324 - accuracy: 0.8417 - val_loss: 2.4694 - val_accuracy: 0.8900\n",
            "Epoch 16/150\n",
            "19/19 [==============================] - 0s 9ms/step - loss: 2.5067 - accuracy: 0.8450 - val_loss: 2.4519 - val_accuracy: 0.8925\n",
            "Epoch 17/150\n",
            "19/19 [==============================] - 0s 7ms/step - loss: 2.5027 - accuracy: 0.8500 - val_loss: 2.4236 - val_accuracy: 0.8950\n",
            "Epoch 18/150\n",
            "19/19 [==============================] - 0s 10ms/step - loss: 2.4848 - accuracy: 0.8500 - val_loss: 2.4088 - val_accuracy: 0.8925\n",
            "Epoch 19/150\n",
            "19/19 [==============================] - 0s 7ms/step - loss: 2.4662 - accuracy: 0.8467 - val_loss: 2.3903 - val_accuracy: 0.8925\n",
            "Epoch 20/150\n",
            "19/19 [==============================] - 0s 7ms/step - loss: 2.4447 - accuracy: 0.8483 - val_loss: 2.3778 - val_accuracy: 0.8975\n",
            "Epoch 21/150\n",
            "19/19 [==============================] - 0s 10ms/step - loss: 2.4190 - accuracy: 0.8433 - val_loss: 2.3570 - val_accuracy: 0.8925\n",
            "Epoch 22/150\n",
            "19/19 [==============================] - 0s 8ms/step - loss: 2.4082 - accuracy: 0.8583 - val_loss: 2.3325 - val_accuracy: 0.8900\n",
            "Epoch 23/150\n",
            "19/19 [==============================] - 0s 8ms/step - loss: 2.3924 - accuracy: 0.8450 - val_loss: 2.3191 - val_accuracy: 0.9100\n",
            "Epoch 24/150\n",
            "19/19 [==============================] - 0s 8ms/step - loss: 2.3661 - accuracy: 0.8633 - val_loss: 2.2969 - val_accuracy: 0.8950\n",
            "Epoch 25/150\n",
            "19/19 [==============================] - 0s 9ms/step - loss: 2.3634 - accuracy: 0.8500 - val_loss: 2.2887 - val_accuracy: 0.9025\n",
            "Epoch 26/150\n",
            "19/19 [==============================] - 0s 10ms/step - loss: 2.3368 - accuracy: 0.8617 - val_loss: 2.2700 - val_accuracy: 0.9075\n",
            "Epoch 27/150\n",
            "19/19 [==============================] - 0s 10ms/step - loss: 2.3252 - accuracy: 0.8600 - val_loss: 2.2654 - val_accuracy: 0.9025\n",
            "Epoch 28/150\n",
            "19/19 [==============================] - 0s 7ms/step - loss: 2.3069 - accuracy: 0.8567 - val_loss: 2.2400 - val_accuracy: 0.9075\n",
            "Epoch 29/150\n",
            "19/19 [==============================] - 0s 10ms/step - loss: 2.2841 - accuracy: 0.8600 - val_loss: 2.2203 - val_accuracy: 0.9025\n",
            "Epoch 30/150\n",
            "19/19 [==============================] - 0s 10ms/step - loss: 2.2677 - accuracy: 0.8617 - val_loss: 2.2006 - val_accuracy: 0.9075\n",
            "Epoch 31/150\n",
            "19/19 [==============================] - 0s 7ms/step - loss: 2.2584 - accuracy: 0.8650 - val_loss: 2.1845 - val_accuracy: 0.8975\n",
            "Epoch 32/150\n",
            "19/19 [==============================] - 0s 10ms/step - loss: 2.2401 - accuracy: 0.8550 - val_loss: 2.1701 - val_accuracy: 0.9100\n",
            "Epoch 33/150\n",
            "19/19 [==============================] - 0s 10ms/step - loss: 2.2217 - accuracy: 0.8633 - val_loss: 2.1663 - val_accuracy: 0.9025\n",
            "Epoch 34/150\n",
            "19/19 [==============================] - 0s 8ms/step - loss: 2.2031 - accuracy: 0.8733 - val_loss: 2.1408 - val_accuracy: 0.9050\n",
            "Epoch 35/150\n",
            "19/19 [==============================] - 0s 10ms/step - loss: 2.1858 - accuracy: 0.8633 - val_loss: 2.1215 - val_accuracy: 0.9150\n",
            "Epoch 36/150\n",
            "19/19 [==============================] - 0s 10ms/step - loss: 2.1665 - accuracy: 0.8717 - val_loss: 2.1099 - val_accuracy: 0.9050\n",
            "Epoch 37/150\n",
            "19/19 [==============================] - 0s 9ms/step - loss: 2.1602 - accuracy: 0.8583 - val_loss: 2.0954 - val_accuracy: 0.9000\n",
            "Epoch 38/150\n",
            "19/19 [==============================] - 0s 8ms/step - loss: 2.1474 - accuracy: 0.8650 - val_loss: 2.0763 - val_accuracy: 0.9125\n",
            "Epoch 39/150\n",
            "19/19 [==============================] - 0s 13ms/step - loss: 2.1236 - accuracy: 0.8817 - val_loss: 2.0575 - val_accuracy: 0.9000\n",
            "Epoch 40/150\n",
            "19/19 [==============================] - 0s 13ms/step - loss: 2.1106 - accuracy: 0.8583 - val_loss: 2.0378 - val_accuracy: 0.9100\n",
            "Epoch 41/150\n",
            "19/19 [==============================] - 0s 13ms/step - loss: 2.0990 - accuracy: 0.8633 - val_loss: 2.0273 - val_accuracy: 0.9125\n",
            "Epoch 42/150\n",
            "19/19 [==============================] - 0s 14ms/step - loss: 2.0736 - accuracy: 0.8667 - val_loss: 2.0084 - val_accuracy: 0.9050\n",
            "Epoch 43/150\n",
            "19/19 [==============================] - 0s 11ms/step - loss: 2.0645 - accuracy: 0.8767 - val_loss: 2.0025 - val_accuracy: 0.9225\n",
            "Epoch 44/150\n",
            "19/19 [==============================] - 0s 13ms/step - loss: 2.0481 - accuracy: 0.8767 - val_loss: 1.9885 - val_accuracy: 0.9050\n",
            "Epoch 45/150\n",
            "19/19 [==============================] - 0s 13ms/step - loss: 2.0394 - accuracy: 0.8650 - val_loss: 1.9688 - val_accuracy: 0.9075\n",
            "Epoch 46/150\n",
            "19/19 [==============================] - 0s 12ms/step - loss: 2.0136 - accuracy: 0.8750 - val_loss: 1.9457 - val_accuracy: 0.9225\n",
            "Epoch 47/150\n",
            "19/19 [==============================] - 0s 12ms/step - loss: 1.9968 - accuracy: 0.8767 - val_loss: 1.9355 - val_accuracy: 0.9175\n",
            "Epoch 48/150\n",
            "19/19 [==============================] - 0s 13ms/step - loss: 1.9859 - accuracy: 0.8667 - val_loss: 1.9208 - val_accuracy: 0.9075\n",
            "Epoch 49/150\n",
            "19/19 [==============================] - 0s 13ms/step - loss: 1.9681 - accuracy: 0.8750 - val_loss: 1.9007 - val_accuracy: 0.9150\n",
            "Epoch 50/150\n",
            "19/19 [==============================] - 0s 8ms/step - loss: 1.9447 - accuracy: 0.8883 - val_loss: 1.8851 - val_accuracy: 0.9125\n",
            "Epoch 51/150\n",
            "19/19 [==============================] - 0s 9ms/step - loss: 1.9375 - accuracy: 0.8717 - val_loss: 1.8806 - val_accuracy: 0.9025\n",
            "Epoch 52/150\n",
            "19/19 [==============================] - 0s 11ms/step - loss: 1.9216 - accuracy: 0.8833 - val_loss: 1.8507 - val_accuracy: 0.9250\n",
            "Epoch 53/150\n",
            "19/19 [==============================] - 0s 9ms/step - loss: 1.8876 - accuracy: 0.9033 - val_loss: 1.8403 - val_accuracy: 0.9125\n",
            "Epoch 54/150\n",
            "19/19 [==============================] - 0s 10ms/step - loss: 1.8766 - accuracy: 0.9033 - val_loss: 1.8256 - val_accuracy: 0.9150\n",
            "Epoch 55/150\n",
            "19/19 [==============================] - 0s 10ms/step - loss: 1.8452 - accuracy: 0.9067 - val_loss: 1.8138 - val_accuracy: 0.9025\n",
            "Epoch 56/150\n",
            "19/19 [==============================] - 0s 9ms/step - loss: 1.8419 - accuracy: 0.9067 - val_loss: 1.7895 - val_accuracy: 0.9300\n",
            "Epoch 57/150\n",
            "19/19 [==============================] - 0s 8ms/step - loss: 1.8311 - accuracy: 0.8983 - val_loss: 1.7718 - val_accuracy: 0.9200\n",
            "Epoch 58/150\n",
            "19/19 [==============================] - 0s 10ms/step - loss: 1.8054 - accuracy: 0.8967 - val_loss: 1.7383 - val_accuracy: 0.9375\n",
            "Epoch 59/150\n",
            "19/19 [==============================] - 0s 10ms/step - loss: 1.7740 - accuracy: 0.9050 - val_loss: 1.7231 - val_accuracy: 0.9400\n",
            "Epoch 60/150\n",
            "19/19 [==============================] - 0s 10ms/step - loss: 1.7716 - accuracy: 0.9117 - val_loss: 1.7182 - val_accuracy: 0.9300\n",
            "Epoch 61/150\n",
            "19/19 [==============================] - 0s 8ms/step - loss: 1.7695 - accuracy: 0.9067 - val_loss: 1.7014 - val_accuracy: 0.9400\n",
            "Epoch 62/150\n",
            "19/19 [==============================] - 0s 11ms/step - loss: 1.7393 - accuracy: 0.9100 - val_loss: 1.6949 - val_accuracy: 0.9350\n",
            "Epoch 63/150\n",
            "19/19 [==============================] - 0s 10ms/step - loss: 1.7027 - accuracy: 0.9250 - val_loss: 1.6450 - val_accuracy: 0.9425\n",
            "Epoch 64/150\n",
            "19/19 [==============================] - 0s 8ms/step - loss: 1.7070 - accuracy: 0.9183 - val_loss: 1.6569 - val_accuracy: 0.9425\n",
            "Epoch 65/150\n",
            "19/19 [==============================] - 0s 11ms/step - loss: 1.6840 - accuracy: 0.9233 - val_loss: 1.6441 - val_accuracy: 0.9350\n",
            "Epoch 66/150\n",
            "19/19 [==============================] - 0s 10ms/step - loss: 1.6523 - accuracy: 0.9250 - val_loss: 1.6228 - val_accuracy: 0.9350\n",
            "Epoch 67/150\n",
            "19/19 [==============================] - 0s 8ms/step - loss: 1.6339 - accuracy: 0.9267 - val_loss: 1.6151 - val_accuracy: 0.9450\n",
            "Epoch 68/150\n",
            "19/19 [==============================] - 0s 9ms/step - loss: 1.6277 - accuracy: 0.9333 - val_loss: 1.5923 - val_accuracy: 0.9500\n",
            "Epoch 69/150\n",
            "19/19 [==============================] - 0s 8ms/step - loss: 1.6151 - accuracy: 0.9400 - val_loss: 1.5786 - val_accuracy: 0.9400\n",
            "Epoch 70/150\n",
            "19/19 [==============================] - 0s 9ms/step - loss: 1.5877 - accuracy: 0.9317 - val_loss: 1.5595 - val_accuracy: 0.9450\n",
            "Epoch 71/150\n",
            "19/19 [==============================] - 0s 9ms/step - loss: 1.5886 - accuracy: 0.9350 - val_loss: 1.5531 - val_accuracy: 0.9550\n",
            "Epoch 72/150\n",
            "19/19 [==============================] - 0s 8ms/step - loss: 1.5816 - accuracy: 0.9183 - val_loss: 1.5154 - val_accuracy: 0.9575\n",
            "Epoch 73/150\n",
            "19/19 [==============================] - 0s 10ms/step - loss: 1.5619 - accuracy: 0.9300 - val_loss: 1.4944 - val_accuracy: 0.9575\n",
            "Epoch 74/150\n",
            "19/19 [==============================] - 0s 8ms/step - loss: 1.5389 - accuracy: 0.9233 - val_loss: 1.5052 - val_accuracy: 0.9425\n",
            "Epoch 75/150\n",
            "19/19 [==============================] - 0s 8ms/step - loss: 1.5156 - accuracy: 0.9400 - val_loss: 1.4739 - val_accuracy: 0.9600\n",
            "Epoch 76/150\n",
            "19/19 [==============================] - 0s 8ms/step - loss: 1.4996 - accuracy: 0.9400 - val_loss: 1.4717 - val_accuracy: 0.9425\n",
            "Epoch 77/150\n",
            "19/19 [==============================] - 0s 10ms/step - loss: 1.4937 - accuracy: 0.9417 - val_loss: 1.4721 - val_accuracy: 0.9375\n",
            "Epoch 78/150\n",
            "19/19 [==============================] - 0s 10ms/step - loss: 1.4723 - accuracy: 0.9450 - val_loss: 1.4570 - val_accuracy: 0.9500\n",
            "Epoch 79/150\n",
            "19/19 [==============================] - 0s 10ms/step - loss: 1.4486 - accuracy: 0.9483 - val_loss: 1.4363 - val_accuracy: 0.9450\n",
            "Epoch 80/150\n",
            "19/19 [==============================] - 0s 8ms/step - loss: 1.4327 - accuracy: 0.9450 - val_loss: 1.4077 - val_accuracy: 0.9650\n",
            "Epoch 81/150\n",
            "19/19 [==============================] - 0s 10ms/step - loss: 1.4446 - accuracy: 0.9450 - val_loss: 1.4175 - val_accuracy: 0.9525\n",
            "Epoch 82/150\n",
            "19/19 [==============================] - 0s 8ms/step - loss: 1.4256 - accuracy: 0.9417 - val_loss: 1.4158 - val_accuracy: 0.9575\n",
            "Epoch 83/150\n",
            "19/19 [==============================] - 0s 8ms/step - loss: 1.4193 - accuracy: 0.9350 - val_loss: 1.3746 - val_accuracy: 0.9650\n",
            "Epoch 84/150\n",
            "19/19 [==============================] - 0s 11ms/step - loss: 1.4003 - accuracy: 0.9383 - val_loss: 1.3612 - val_accuracy: 0.9525\n",
            "Epoch 85/150\n",
            "19/19 [==============================] - 0s 10ms/step - loss: 1.3821 - accuracy: 0.9450 - val_loss: 1.3477 - val_accuracy: 0.9475\n",
            "Epoch 86/150\n",
            "19/19 [==============================] - 0s 10ms/step - loss: 1.3733 - accuracy: 0.9467 - val_loss: 1.3480 - val_accuracy: 0.9575\n",
            "Epoch 87/150\n",
            "19/19 [==============================] - 0s 9ms/step - loss: 1.3603 - accuracy: 0.9517 - val_loss: 1.3317 - val_accuracy: 0.9600\n",
            "Epoch 88/150\n",
            "19/19 [==============================] - 0s 10ms/step - loss: 1.3346 - accuracy: 0.9500 - val_loss: 1.3481 - val_accuracy: 0.9450\n",
            "Epoch 89/150\n",
            "19/19 [==============================] - 0s 9ms/step - loss: 1.3231 - accuracy: 0.9617 - val_loss: 1.3194 - val_accuracy: 0.9575\n",
            "Epoch 90/150\n",
            "19/19 [==============================] - 0s 7ms/step - loss: 1.3185 - accuracy: 0.9533 - val_loss: 1.2886 - val_accuracy: 0.9650\n",
            "Epoch 91/150\n",
            "19/19 [==============================] - 0s 8ms/step - loss: 1.2899 - accuracy: 0.9633 - val_loss: 1.2957 - val_accuracy: 0.9450\n",
            "Epoch 92/150\n",
            "19/19 [==============================] - 0s 8ms/step - loss: 1.2831 - accuracy: 0.9583 - val_loss: 1.2665 - val_accuracy: 0.9575\n",
            "Epoch 93/150\n",
            "19/19 [==============================] - 0s 9ms/step - loss: 1.2867 - accuracy: 0.9483 - val_loss: 1.2491 - val_accuracy: 0.9650\n",
            "Epoch 94/150\n",
            "19/19 [==============================] - 0s 10ms/step - loss: 1.2902 - accuracy: 0.9417 - val_loss: 1.2931 - val_accuracy: 0.9475\n",
            "Epoch 95/150\n",
            "19/19 [==============================] - 0s 10ms/step - loss: 1.2571 - accuracy: 0.9617 - val_loss: 1.2187 - val_accuracy: 0.9625\n",
            "Epoch 96/150\n",
            "19/19 [==============================] - 0s 8ms/step - loss: 1.2589 - accuracy: 0.9500 - val_loss: 1.2362 - val_accuracy: 0.9600\n",
            "Epoch 97/150\n",
            "19/19 [==============================] - 0s 8ms/step - loss: 1.2195 - accuracy: 0.9617 - val_loss: 1.2339 - val_accuracy: 0.9550\n",
            "Epoch 98/150\n",
            "19/19 [==============================] - 0s 11ms/step - loss: 1.2239 - accuracy: 0.9450 - val_loss: 1.1901 - val_accuracy: 0.9675\n",
            "Epoch 99/150\n",
            "19/19 [==============================] - 0s 10ms/step - loss: 1.2047 - accuracy: 0.9567 - val_loss: 1.1869 - val_accuracy: 0.9625\n",
            "Epoch 100/150\n",
            "19/19 [==============================] - 0s 8ms/step - loss: 1.2100 - accuracy: 0.9500 - val_loss: 1.1835 - val_accuracy: 0.9600\n",
            "Epoch 101/150\n",
            "19/19 [==============================] - 0s 10ms/step - loss: 1.1982 - accuracy: 0.9483 - val_loss: 1.1745 - val_accuracy: 0.9425\n",
            "Epoch 102/150\n",
            "19/19 [==============================] - 0s 9ms/step - loss: 1.1793 - accuracy: 0.9583 - val_loss: 1.1535 - val_accuracy: 0.9650\n",
            "Epoch 103/150\n",
            "19/19 [==============================] - 0s 10ms/step - loss: 1.1747 - accuracy: 0.9633 - val_loss: 1.1539 - val_accuracy: 0.9575\n",
            "Epoch 104/150\n",
            "19/19 [==============================] - 0s 9ms/step - loss: 1.1714 - accuracy: 0.9417 - val_loss: 1.1246 - val_accuracy: 0.9650\n",
            "Epoch 105/150\n",
            "19/19 [==============================] - 0s 8ms/step - loss: 1.1610 - accuracy: 0.9467 - val_loss: 1.1301 - val_accuracy: 0.9650\n",
            "Epoch 106/150\n",
            "19/19 [==============================] - 0s 13ms/step - loss: 1.1536 - accuracy: 0.9433 - val_loss: 1.1314 - val_accuracy: 0.9575\n",
            "Epoch 107/150\n",
            "19/19 [==============================] - 0s 11ms/step - loss: 1.1251 - accuracy: 0.9533 - val_loss: 1.1094 - val_accuracy: 0.9600\n",
            "Epoch 108/150\n",
            "19/19 [==============================] - 0s 11ms/step - loss: 1.1331 - accuracy: 0.9550 - val_loss: 1.1006 - val_accuracy: 0.9575\n",
            "Epoch 109/150\n",
            "19/19 [==============================] - 0s 13ms/step - loss: 1.1119 - accuracy: 0.9450 - val_loss: 1.1048 - val_accuracy: 0.9600\n",
            "Epoch 110/150\n",
            "19/19 [==============================] - 0s 12ms/step - loss: 1.0861 - accuracy: 0.9667 - val_loss: 1.0846 - val_accuracy: 0.9675\n",
            "Epoch 111/150\n",
            "19/19 [==============================] - 0s 13ms/step - loss: 1.0818 - accuracy: 0.9567 - val_loss: 1.0738 - val_accuracy: 0.9625\n",
            "Epoch 112/150\n",
            "19/19 [==============================] - 0s 11ms/step - loss: 1.0729 - accuracy: 0.9533 - val_loss: 1.0630 - val_accuracy: 0.9650\n",
            "Epoch 113/150\n",
            "19/19 [==============================] - 0s 12ms/step - loss: 1.0599 - accuracy: 0.9583 - val_loss: 1.0491 - val_accuracy: 0.9650\n",
            "Epoch 114/150\n",
            "19/19 [==============================] - 0s 11ms/step - loss: 1.0483 - accuracy: 0.9650 - val_loss: 1.0720 - val_accuracy: 0.9575\n",
            "Epoch 115/150\n",
            "19/19 [==============================] - 0s 13ms/step - loss: 1.0422 - accuracy: 0.9500 - val_loss: 1.0202 - val_accuracy: 0.9625\n",
            "Epoch 116/150\n",
            "19/19 [==============================] - 0s 13ms/step - loss: 1.0473 - accuracy: 0.9467 - val_loss: 1.0353 - val_accuracy: 0.9550\n",
            "Epoch 117/150\n",
            "19/19 [==============================] - 0s 13ms/step - loss: 1.0297 - accuracy: 0.9600 - val_loss: 1.0208 - val_accuracy: 0.9575\n",
            "Epoch 118/150\n",
            "19/19 [==============================] - 0s 9ms/step - loss: 1.0401 - accuracy: 0.9467 - val_loss: 1.0274 - val_accuracy: 0.9525\n",
            "Epoch 119/150\n",
            "19/19 [==============================] - 0s 8ms/step - loss: 1.0114 - accuracy: 0.9600 - val_loss: 0.9961 - val_accuracy: 0.9550\n",
            "Epoch 120/150\n",
            "19/19 [==============================] - 0s 8ms/step - loss: 1.0102 - accuracy: 0.9600 - val_loss: 0.9714 - val_accuracy: 0.9750\n",
            "Epoch 121/150\n",
            "19/19 [==============================] - 0s 9ms/step - loss: 0.9974 - accuracy: 0.9517 - val_loss: 0.9907 - val_accuracy: 0.9550\n",
            "Epoch 122/150\n",
            "19/19 [==============================] - 0s 8ms/step - loss: 1.0122 - accuracy: 0.9500 - val_loss: 0.9773 - val_accuracy: 0.9625\n",
            "Epoch 123/150\n",
            "19/19 [==============================] - 0s 9ms/step - loss: 0.9928 - accuracy: 0.9517 - val_loss: 0.9767 - val_accuracy: 0.9625\n",
            "Epoch 124/150\n",
            "19/19 [==============================] - 0s 10ms/step - loss: 0.9543 - accuracy: 0.9617 - val_loss: 0.9786 - val_accuracy: 0.9525\n",
            "Epoch 125/150\n",
            "19/19 [==============================] - 0s 7ms/step - loss: 0.9494 - accuracy: 0.9633 - val_loss: 0.9513 - val_accuracy: 0.9600\n",
            "Epoch 126/150\n",
            "19/19 [==============================] - 0s 8ms/step - loss: 0.9525 - accuracy: 0.9600 - val_loss: 0.9356 - val_accuracy: 0.9575\n",
            "Epoch 127/150\n",
            "19/19 [==============================] - 0s 10ms/step - loss: 0.9311 - accuracy: 0.9600 - val_loss: 0.9228 - val_accuracy: 0.9650\n",
            "Epoch 128/150\n",
            "19/19 [==============================] - 0s 8ms/step - loss: 0.9435 - accuracy: 0.9583 - val_loss: 0.9299 - val_accuracy: 0.9625\n",
            "Epoch 129/150\n",
            "19/19 [==============================] - 0s 7ms/step - loss: 0.9137 - accuracy: 0.9600 - val_loss: 0.9224 - val_accuracy: 0.9650\n",
            "Epoch 130/150\n",
            "19/19 [==============================] - 0s 8ms/step - loss: 0.9181 - accuracy: 0.9583 - val_loss: 0.9151 - val_accuracy: 0.9650\n",
            "Epoch 131/150\n",
            "19/19 [==============================] - 0s 8ms/step - loss: 0.9225 - accuracy: 0.9650 - val_loss: 0.8874 - val_accuracy: 0.9650\n",
            "Epoch 132/150\n",
            "19/19 [==============================] - 0s 8ms/step - loss: 0.9153 - accuracy: 0.9533 - val_loss: 0.8860 - val_accuracy: 0.9625\n",
            "Epoch 133/150\n",
            "19/19 [==============================] - 0s 10ms/step - loss: 0.9079 - accuracy: 0.9533 - val_loss: 0.8704 - val_accuracy: 0.9625\n",
            "Epoch 134/150\n",
            "19/19 [==============================] - 0s 8ms/step - loss: 0.8868 - accuracy: 0.9633 - val_loss: 0.8859 - val_accuracy: 0.9650\n",
            "Epoch 135/150\n",
            "19/19 [==============================] - 0s 8ms/step - loss: 0.8877 - accuracy: 0.9467 - val_loss: 0.8607 - val_accuracy: 0.9725\n",
            "Epoch 136/150\n",
            "19/19 [==============================] - 0s 8ms/step - loss: 0.8641 - accuracy: 0.9617 - val_loss: 0.8632 - val_accuracy: 0.9650\n",
            "Epoch 137/150\n",
            "19/19 [==============================] - 0s 10ms/step - loss: 0.8555 - accuracy: 0.9617 - val_loss: 0.8547 - val_accuracy: 0.9650\n",
            "Epoch 138/150\n",
            "19/19 [==============================] - 0s 8ms/step - loss: 0.8648 - accuracy: 0.9533 - val_loss: 0.8508 - val_accuracy: 0.9625\n",
            "Epoch 139/150\n",
            "19/19 [==============================] - 0s 10ms/step - loss: 0.8799 - accuracy: 0.9450 - val_loss: 0.8513 - val_accuracy: 0.9575\n",
            "Epoch 140/150\n",
            "19/19 [==============================] - 0s 9ms/step - loss: 0.8307 - accuracy: 0.9633 - val_loss: 0.8256 - val_accuracy: 0.9675\n",
            "Epoch 141/150\n",
            "19/19 [==============================] - 0s 7ms/step - loss: 0.8487 - accuracy: 0.9533 - val_loss: 0.8428 - val_accuracy: 0.9575\n",
            "Epoch 142/150\n",
            "19/19 [==============================] - 0s 9ms/step - loss: 0.8477 - accuracy: 0.9550 - val_loss: 0.8080 - val_accuracy: 0.9725\n",
            "Epoch 143/150\n",
            "19/19 [==============================] - 0s 8ms/step - loss: 0.8441 - accuracy: 0.9517 - val_loss: 0.8139 - val_accuracy: 0.9650\n",
            "Epoch 144/150\n",
            "19/19 [==============================] - 0s 10ms/step - loss: 0.8320 - accuracy: 0.9500 - val_loss: 0.8110 - val_accuracy: 0.9525\n",
            "Epoch 145/150\n",
            "19/19 [==============================] - 0s 10ms/step - loss: 0.8045 - accuracy: 0.9583 - val_loss: 0.7990 - val_accuracy: 0.9675\n",
            "Epoch 146/150\n",
            "19/19 [==============================] - 0s 9ms/step - loss: 0.8124 - accuracy: 0.9583 - val_loss: 0.7787 - val_accuracy: 0.9700\n",
            "Epoch 147/150\n",
            "19/19 [==============================] - 0s 10ms/step - loss: 0.8015 - accuracy: 0.9650 - val_loss: 0.8013 - val_accuracy: 0.9675\n",
            "Epoch 148/150\n",
            "19/19 [==============================] - 0s 8ms/step - loss: 0.7974 - accuracy: 0.9567 - val_loss: 0.8008 - val_accuracy: 0.9550\n",
            "Epoch 149/150\n",
            "19/19 [==============================] - 0s 10ms/step - loss: 0.8044 - accuracy: 0.9533 - val_loss: 0.7727 - val_accuracy: 0.9550\n",
            "Epoch 150/150\n",
            "19/19 [==============================] - 0s 8ms/step - loss: 0.7668 - accuracy: 0.9567 - val_loss: 0.7907 - val_accuracy: 0.9500\n",
            "Model: \"sequential_1\"\n",
            "_________________________________________________________________\n",
            " Layer (type)                Output Shape              Param #   \n",
            "=================================================================\n",
            " dense_flipout_4 (DenseFlipo  (None, 16)               80        \n",
            " ut)                                                             \n",
            "                                                                 \n",
            " dense_flipout_5 (DenseFlipo  (None, 16)               528       \n",
            " ut)                                                             \n",
            "                                                                 \n",
            " dense_flipout_6 (DenseFlipo  (None, 16)               528       \n",
            " ut)                                                             \n",
            "                                                                 \n",
            " dense_flipout_7 (DenseFlipo  (None, 1)                33        \n",
            " ut)                                                             \n",
            "                                                                 \n",
            "=================================================================\n",
            "Total params: 1,169\n",
            "Trainable params: 1,169\n",
            "Non-trainable params: 0\n",
            "_________________________________________________________________\n"
          ]
        }
      ]
    },
    {
      "cell_type": "code",
      "source": [],
      "metadata": {
        "id": "5Gy1lgzchcUf"
      },
      "execution_count": 7,
      "outputs": []
    },
    {
      "cell_type": "markdown",
      "source": [
        "### Test: 20 foward passes for the same input"
      ],
      "metadata": {
        "id": "bUCOvwy8Hisg"
      }
    },
    {
      "cell_type": "code",
      "execution_count": 8,
      "metadata": {
        "id": "fM5yA3COhkw8"
      },
      "outputs": [],
      "source": [
        "# definition of a grid in the inputs' space\n",
        "min1, max1 = X[:, 0].min()-2, X[:, 0].max()+1.5\n",
        "min2, max2 = X[:, 1].min()-2, X[:, 1].max()+1.5\n",
        "x1grid = arange(min1, max1, 0.05)\n",
        "x2grid = arange(min2, max2, 0.05)\n",
        "xx, yy = meshgrid(x1grid, x2grid)\n",
        "r1, r2 = xx.flatten(), yy.flatten()\n",
        "r1, r2 = r1.reshape((len(r1), 1)), r2.reshape((len(r2), 1))\n",
        "grid = hstack((r1,r2))\n"
      ]
    },
    {
      "cell_type": "code",
      "execution_count": 9,
      "metadata": {
        "colab": {
          "base_uri": "https://localhost:8080/"
        },
        "id": "0j93fwmHg3o0",
        "outputId": "75b4ebe5-0a57-45b7-8dc8-d2f01b6d7e7e"
      },
      "outputs": [
        {
          "output_type": "stream",
          "name": "stdout",
          "text": [
            "557/557 [==============================] - 1s 2ms/step\n",
            "13/13 [==============================] - 0s 2ms/step\n",
            "557/557 [==============================] - 1s 2ms/step\n",
            "13/13 [==============================] - 0s 4ms/step\n",
            "557/557 [==============================] - 2s 3ms/step\n",
            "13/13 [==============================] - 0s 2ms/step\n",
            "557/557 [==============================] - 1s 2ms/step\n",
            "13/13 [==============================] - 0s 2ms/step\n",
            "557/557 [==============================] - 1s 2ms/step\n",
            "13/13 [==============================] - 0s 2ms/step\n",
            "557/557 [==============================] - 1s 2ms/step\n",
            "13/13 [==============================] - 0s 2ms/step\n",
            "557/557 [==============================] - 1s 2ms/step\n",
            "13/13 [==============================] - 0s 2ms/step\n",
            "557/557 [==============================] - 1s 2ms/step\n",
            "13/13 [==============================] - 0s 3ms/step\n",
            "557/557 [==============================] - 1s 3ms/step\n",
            "13/13 [==============================] - 0s 3ms/step\n",
            "557/557 [==============================] - 1s 3ms/step\n",
            "13/13 [==============================] - 0s 3ms/step\n",
            "557/557 [==============================] - 1s 2ms/step\n",
            "13/13 [==============================] - 0s 4ms/step\n",
            "557/557 [==============================] - 1s 2ms/step\n",
            "13/13 [==============================] - 0s 2ms/step\n",
            "557/557 [==============================] - 1s 2ms/step\n",
            "13/13 [==============================] - 0s 2ms/step\n",
            "557/557 [==============================] - 1s 2ms/step\n",
            "13/13 [==============================] - 0s 2ms/step\n",
            "557/557 [==============================] - 1s 2ms/step\n",
            "13/13 [==============================] - 0s 2ms/step\n",
            "557/557 [==============================] - 1s 2ms/step\n",
            "13/13 [==============================] - 0s 2ms/step\n",
            "557/557 [==============================] - 1s 3ms/step\n",
            "13/13 [==============================] - 0s 2ms/step\n",
            "557/557 [==============================] - 1s 2ms/step\n",
            "13/13 [==============================] - 0s 2ms/step\n",
            "557/557 [==============================] - 1s 2ms/step\n",
            "13/13 [==============================] - 0s 2ms/step\n",
            "557/557 [==============================] - 1s 2ms/step\n",
            "13/13 [==============================] - 0s 2ms/step\n",
            "(17812, 1)\n",
            "[0.06345921]\n"
          ]
        }
      ],
      "source": [
        "A=[] #for test samples\n",
        "B=[] #for the grid\n",
        "ent=[]\n",
        "for i in range(20):\n",
        "  preds=model_vi.predict(grid)\n",
        "  A.append(preds)\n",
        "  B.append(model_vi.predict(X_te))\n",
        "  aux=np.array(preds).reshape(len(preds),1)\n",
        "  aux2=np.concatenate((aux, 1-aux), axis=1)\n",
        "  ent.append(entropy(aux2,axis=1))\n",
        "\n",
        "\n",
        "final=np.mean(np.array(A),axis=0)\n",
        "print(final.shape)\n",
        "\n",
        "zz = final[:,0].reshape(xx.shape)\n",
        "print(final[0])\n",
        "\n",
        "predicted_proba_bayes = np.mean(np.array(B),axis=0)\n",
        "\n",
        "epistemic_uncertainty=np.mean(np.array(ent),axis=0)"
      ]
    },
    {
      "cell_type": "code",
      "source": [
        "fin=np.concatenate((final, 1-final), axis=1)\n",
        "print(fin.shape)\n",
        "predicted_entropy_bayes=entropy(fin,axis=1)\n",
        "epistemic_uncertainty=np.mean(np.array(ent),axis=0)"
      ],
      "metadata": {
        "colab": {
          "base_uri": "https://localhost:8080/"
        },
        "id": "A5VxU94ZMFFL",
        "outputId": "9b2b4810-5510-44cf-c932-9ff5ed812652"
      },
      "execution_count": 10,
      "outputs": [
        {
          "output_type": "stream",
          "name": "stdout",
          "text": [
            "(17812, 2)\n"
          ]
        }
      ]
    },
    {
      "cell_type": "code",
      "source": [
        "print(predicted_entropy_bayes.shape)\n",
        "print(epistemic_uncertainty.shape)\n",
        "print(predicted_entropy_bayes[:2])"
      ],
      "metadata": {
        "colab": {
          "base_uri": "https://localhost:8080/"
        },
        "id": "J4PQO9PHSGSB",
        "outputId": "b3c6bedd-2450-4f4a-a757-e3c83fd49512"
      },
      "execution_count": 11,
      "outputs": [
        {
          "output_type": "stream",
          "name": "stdout",
          "text": [
            "(17812,)\n",
            "(17812,)\n",
            "[0.23638144 0.56238985]\n"
          ]
        }
      ]
    },
    {
      "cell_type": "code",
      "execution_count": 12,
      "metadata": {
        "colab": {
          "base_uri": "https://localhost:8080/",
          "height": 281
        },
        "id": "mUOBtNgog3rp",
        "outputId": "93f21b84-5616-4853-a084-16af3870d1a5"
      },
      "outputs": [
        {
          "output_type": "display_data",
          "data": {
            "text/plain": [
              "<Figure size 432x288 with 2 Axes>"
            ],
            "image/png": "[encoded data removed]"
          },
          "metadata": {
            "needs_background": "light"
          }
        }
      ],
      "source": [
        "c=plt.contourf(xx, yy, zz)\n",
        "cbar=plt.colorbar(c)\n",
        "for class_value in range(2):\n",
        "\t# get row indexes for samples with this class\n",
        "\trow_ix = where(Y == class_value)\n",
        "\t# create scatter of these samples\n",
        "\tplt.scatter(X[row_ix, 0], X[row_ix, 1],s=5)\n",
        "plt.xlim(-1.5, 2.5)\n",
        "plt.ylim(-1.5, 2)\n",
        "plt.title('Bayesian NN (VI)')\n",
        "cbar.set_label('$p(orange| x)$')\n",
        "#plt.savefig(\"bayes5.pdf\")"
      ]
    },
    {
      "cell_type": "markdown",
      "source": [
        "# Epistemic-aleatoric decoupling "
      ],
      "metadata": {
        "id": "ucsB3BUtDg-F"
      }
    },
    {
      "cell_type": "code",
      "source": [
        "from scipy.ndimage.filters import gaussian_filter # for smoothing the plots"
      ],
      "metadata": {
        "id": "r7Az0shj5fqo",
        "colab": {
          "base_uri": "https://localhost:8080/"
        },
        "outputId": "77e9df9c-57a3-4653-c42b-f1e63c4200e0"
      },
      "execution_count": 13,
      "outputs": [
        {
          "output_type": "stream",
          "name": "stderr",
          "text": [
            "<ipython-input-13-48cbfdc7a68a>:1: DeprecationWarning: Please use `gaussian_filter` from the `scipy.ndimage` namespace, the `scipy.ndimage.filters` namespace is deprecated.\n",
            "  from scipy.ndimage.filters import gaussian_filter # for smoothing the plots\n"
          ]
        }
      ]
    },
    {
      "cell_type": "code",
      "source": [
        "zz_tot_unc = predicted_entropy_bayes.reshape(xx.shape)\n",
        "zz_al_unc=epistemic_uncertainty.reshape(xx.shape)\n",
        "zz_ep_unc=zz_tot_unc-zz_al_unc\n",
        "\n",
        "c=plt.contourf(xx, yy, zz_ep_unc,levels=7)\n",
        "cbar=plt.colorbar(c)\n",
        "for class_value in range(2):\n",
        "\t# get row indexes for samples with this class\n",
        "\trow_ix = where(Y == class_value)\n",
        "\t# create scatter of these samples\n",
        "\tplt.scatter(X[row_ix, 0], X[row_ix, 1],s=5)\n",
        "plt.xlim(-2, 2.5)\n",
        "plt.ylim(-2, 2.5)\n",
        "plt.title('Bayesian NN (VI)')\n",
        "cbar.set_label('$p(orange| x)$')\n",
        "#plt.savefig(\"bayes5.pdf\")"
      ],
      "metadata": {
        "colab": {
          "base_uri": "https://localhost:8080/",
          "height": 281
        },
        "id": "nCBj28KYDjay",
        "outputId": "06ce7e96-6c7c-449f-aaad-31aa38e4c075"
      },
      "execution_count": 14,
      "outputs": [
        {
          "output_type": "display_data",
          "data": {
            "text/plain": [
              "<Figure size 432x288 with 2 Axes>"
            ],
            "image/png": "[encoded data removed]"
          },
          "metadata": {
            "needs_background": "light"
          }
        }
      ]
    },
    {
      "cell_type": "code",
      "source": [
        "zz_al_uncsmth=gaussian_filter(zz_al_unc, 0.2)\n",
        "zz_ep_uncsmth=gaussian_filter(zz_ep_unc, 0.2)\n",
        "\n",
        "fig, (ax1, ax2) = plt.subplots(1, 2,sharey=True,gridspec_kw={'width_ratios': [0.85, 1]})\n",
        "\n",
        "\n",
        "ax1.contourf(xx, yy, zz_al_uncsmth,levels=7)\n",
        "#cbar=plt.colorbar(c)\n",
        "\n",
        "for class_value in range(2):\n",
        "\trow_ix = where(Y == class_value)\n",
        "\tax1.scatter(X[row_ix, 0], X[row_ix, 1],s=1)\n",
        "\n",
        "ax1.set_xlim(-2.,3.3)\n",
        "ax1.set_ylim(-2, 2)\n",
        "ax1.set_title('Aleatoric Uncertainty')\n",
        "\n",
        "c=ax2.contourf(xx, yy, zz_ep_uncsmth,levels=7)\n",
        "\n",
        "for class_value in range(2):\n",
        "\trow_ix = where(Y == class_value)\n",
        "\tax2.scatter(X[row_ix, 0], X[row_ix, 1],s=1)\n",
        " \n",
        "ax2.set_xlim(-2.,3.3)\n",
        "ax2.set_title('Epistemic Uncertainty')\n",
        "\n",
        "cbar=plt.colorbar(c)\n",
        "cbar.set_label('Uncertainty [nats]')\n",
        "#plt.savefig(\"dec_unc.pdf\")"
      ],
      "metadata": {
        "colab": {
          "base_uri": "https://localhost:8080/",
          "height": 281
        },
        "id": "P0mZTekBxaxz",
        "outputId": "ce913100-e4ba-4901-d3a7-63a04207e69f"
      },
      "execution_count": 15,
      "outputs": [
        {
          "output_type": "display_data",
          "data": {
            "text/plain": [
              "<Figure size 432x288 with 3 Axes>"
            ],
            "image/png": "[encoded data removed]"
          },
          "metadata": {
            "needs_background": "light"
          }
        }
      ]
    },
    {
      "cell_type": "code",
      "source": [],
      "metadata": {
        "id": "kzfaJfbakKE4"
      },
      "execution_count": 15,
      "outputs": []
    },
    {
      "cell_type": "markdown",
      "source": [
        "### Check of the calibration \n",
        "https://scikit-learn.org/stable/modules/calibration.html"
      ],
      "metadata": {
        "id": "iFqEABpHkKu-"
      }
    },
    {
      "cell_type": "code",
      "execution_count": 16,
      "metadata": {
        "colab": {
          "base_uri": "https://localhost:8080/",
          "height": 279
        },
        "id": "sIYzmyd15HmG",
        "outputId": "2133a7ca-6d5d-4361-80f9-9419e36643e6"
      },
      "outputs": [
        {
          "output_type": "display_data",
          "data": {
            "text/plain": [
              "<Figure size 432x288 with 1 Axes>"
            ],
            "image/png": "[encoded data removed]"
          },
          "metadata": {
            "needs_background": "light"
          }
        }
      ],
      "source": [
        "from sklearn.calibration import calibration_curve\n",
        "prob_true, prob_predicted_bayes = calibration_curve(y_te, predicted_proba_bayes, n_bins=7, strategy=\"quantile\")\n",
        "plt.plot(prob_predicted_bayes, prob_true, label=\"Bayesian Net\")\n",
        "plt.plot([0, 1], [0, 1], '--',label=\"Ideal\")\n",
        "plt.xlabel(\"Predicted probability\")\n",
        "plt.ylabel(\"Expected probability\")\n",
        "plt.legend();"
      ]
    },
    {
      "cell_type": "code",
      "source": [],
      "metadata": {
        "id": "qAeyFAm5bgUh"
      },
      "execution_count": 16,
      "outputs": []
    },
    {
      "cell_type": "markdown",
      "source": [
        "# Active Learning\n",
        "Comparison of Active Learning trough a random acquisition function and Bayesian Active Learng by Disagreement (BALD)\n"
      ],
      "metadata": {
        "id": "vWx0CO8obg-3"
      }
    },
    {
      "cell_type": "code",
      "source": [
        "import random\n",
        "from sklearn.utils.random import sample_without_replacement"
      ],
      "metadata": {
        "id": "X2ejUGvsb_na"
      },
      "execution_count": 17,
      "outputs": []
    },
    {
      "cell_type": "code",
      "source": [],
      "metadata": {
        "id": "TfofpzRGRl73"
      },
      "execution_count": 17,
      "outputs": []
    },
    {
      "cell_type": "code",
      "source": [
        "print(X_tr.shape)\n",
        "print(X_tr[0])"
      ],
      "metadata": {
        "colab": {
          "base_uri": "https://localhost:8080/"
        },
        "id": "JiinmI2Odt1n",
        "outputId": "5dea6d89-35f7-496c-f050-6f96d5067a69"
      },
      "execution_count": 18,
      "outputs": [
        {
          "output_type": "stream",
          "name": "stdout",
          "text": [
            "(600, 2)\n",
            "[ 1.20419667 -0.62852424]\n"
          ]
        }
      ]
    },
    {
      "cell_type": "code",
      "execution_count": 19,
      "metadata": {
        "id": "43tMVi-P8cO3"
      },
      "outputs": [],
      "source": [
        "def random_sampling(data,labels,num_batches):\n",
        "  aux2=[]\n",
        "  aux3=[]\n",
        "  num_samples=int((len(data))/num_batches)\n",
        "  aux=np.arange(len(data))\n",
        "  random_ind= np.random.choice(aux,size=(num_batches,num_samples),replace=False)\n",
        "  #print(random_ind)\n",
        "  for i in range(len(random_ind)):\n",
        "    aux2.append(data[random_ind[i]])\n",
        "    aux3.append(labels[random_ind[i]])\n",
        "\n",
        "  return np.array(aux2),np.array(aux3)\n",
        "\n",
        "def Information_wise_sampling(data,labels,epistemic,num_samples):\n",
        "  \n",
        "  #index= np.argpartition(epistemic, -num_samples)[-num_samples:]\n",
        "  index=np.argsort(epistemic)[::-1][:num_samples]\n",
        "  others_index=np.argsort(epistemic)[::-1][num_samples:]\n",
        "  return data[index],labels[index],data[others_index],labels[others_index]\n",
        "\n",
        "def testing_epistemic(model,X_te):\n",
        "  B=[]\n",
        "  ent=[]\n",
        "  for i in range(15):\n",
        "    preds=model.predict(X_te)\n",
        "    #print(preds)\n",
        "    B.append(preds)\n",
        "    #aux=np.array(B).reshape(len(preds),1)\n",
        "    aux2=np.concatenate((preds, 1-preds), axis=1)\n",
        "    ent.append(entropy(aux2,axis=1))\n",
        "\n",
        "  predicted_proba_bayes = np.mean(np.array(B),axis=0)\n",
        "  #print(predicted_proba_bayes)\n",
        "  epistemic_uncertainty=np.mean(np.array(ent),axis=0)\n",
        "\n",
        "  return epistemic_uncertainty"
      ]
    },
    {
      "cell_type": "code",
      "source": [
        "prova=np.array([1,2,3,4,5,6])\n",
        "label=np.array([1,2,3,4,5,6])+10\n",
        "aa,_=random_sampling(prova,label,3)\n",
        "print(aa[1:])\n",
        "print(aa[0])\n",
        "#print(np.concatenate(aa[1:], axis=1))"
      ],
      "metadata": {
        "colab": {
          "base_uri": "https://localhost:8080/"
        },
        "id": "tj7arVM0UhQt",
        "outputId": "ff1c1d9f-de76-4c61-91ea-980ea958036f"
      },
      "execution_count": 20,
      "outputs": [
        {
          "output_type": "stream",
          "name": "stdout",
          "text": [
            "[[5 4]\n",
            " [3 1]]\n",
            "[6 2]\n"
          ]
        }
      ]
    },
    {
      "cell_type": "code",
      "source": [
        "random.seed(16)\n",
        "data_train_ran,labels=random_sampling(X_tr,y_tr,8)\n"
      ],
      "metadata": {
        "id": "ftuVaSGYTUO0"
      },
      "execution_count": 32,
      "outputs": []
    },
    {
      "cell_type": "markdown",
      "source": [
        "## BALD \n",
        "The presented approach is based on selecting batches of the most informative points. This strategy can be further improved by noting that we are selecting the most $individually$ informative points withount guarantee that the selected batches of points are also $jointly$ informative. See https://arxiv.org/pdf/1906.08158.pdf"
      ],
      "metadata": {
        "id": "uAcrZ1LMkX_P"
      }
    },
    {
      "cell_type": "code",
      "source": [
        "n_experiments=10             #number of active learning experiments\n",
        "excluded=3                  #number of batches to exclude\n",
        "acc_test_BALD=[]\n",
        "for count in range(n_experiments): \n",
        "  first_samples=data_train_ran[0]\n",
        "  first_samples_labels=labels[0]\n",
        "  acc_test=np.zeros(len(data_train_ran))\n",
        "  n_samples=np.zeros(len(data_train_ran))\n",
        "\n",
        "  for i in range(len(data_train_ran)-excluded):\n",
        "    if i==0:\n",
        "      tr=first_samples\n",
        "      tr_l=first_samples_labels\n",
        "      remaining_data=np.concatenate(data_train_ran[1:],axis=0)\n",
        "      remaining_data_label=np.concatenate(labels[1:],axis=0)\n",
        "\n",
        "    print('experiment',count)\n",
        "    print('batch',i)\n",
        "    print('samples train',len(tr))\n",
        "    model_vi=model()\n",
        "    model_vi.fit(tr, tr_l, epochs=150, batch_size=16,validation_data=(X_te, y_te),verbose = 0)\n",
        "    B=[]\n",
        "    n_samples[i]=len(tr)\n",
        "\n",
        "    for j in range(10):\n",
        "      B.append(model_vi.predict(X_te,verbose = 0))\n",
        "    predicted_proba_bayes = np.mean(np.array(B),axis=0)\n",
        "\n",
        "    acc_test[i]=accuracy_score( y_te,np.array(predicted_proba_bayes+0.5).astype(int))\n",
        "    ieeee=testing_epistemic(model_vi,remaining_data)\n",
        "  \n",
        "    new_tr,new_tr_l,remaining_datan,remaining_data_labeln=Information_wise_sampling(remaining_data,remaining_data_label,ieeee,len(first_samples))\n",
        "    tr=np.concatenate((tr,new_tr),axis=0)\n",
        "    tr_l=np.concatenate((tr_l,new_tr_l),axis=0)\n",
        "    remaining_data=remaining_datan\n",
        "    remaining_data_label=remaining_data_labeln\n",
        "\n",
        "  acc_test_BALD.append(acc_test)\n"
      ],
      "metadata": {
        "colab": {
          "base_uri": "https://localhost:8080/"
        },
        "id": "OrITB6amRbWL",
        "outputId": "b52f64f9-4ffa-43e6-e5a9-7a3c554c7773"
      },
      "execution_count": 33,
      "outputs": [
        {
          "output_type": "stream",
          "name": "stdout",
          "text": [
            "experiment 0\n",
            "batch 0\n",
            "samples train 75\n"
          ]
        },
        {
          "output_type": "stream",
          "name": "stderr",
          "text": [
            "/usr/local/lib/python3.9/dist-packages/tensorflow_probability/python/layers/util.py:95: UserWarning: `layer.add_variable` is deprecated and will be removed in a future version. Please use the `layer.add_weight()` method instead.\n",
            "  loc = add_variable_fn(\n",
            "/usr/local/lib/python3.9/dist-packages/tensorflow_probability/python/layers/util.py:105: UserWarning: `layer.add_variable` is deprecated and will be removed in a future version. Please use the `layer.add_weight()` method instead.\n",
            "  untransformed_scale = add_variable_fn(\n"
          ]
        },
        {
          "output_type": "stream",
          "name": "stdout",
          "text": [
            "17/17 [==============================] - 0s 4ms/step\n",
            "17/17 [==============================] - 0s 3ms/step\n",
            "17/17 [==============================] - 0s 4ms/step\n",
            "17/17 [==============================] - 0s 3ms/step\n",
            "17/17 [==============================] - 0s 3ms/step\n",
            "17/17 [==============================] - 0s 5ms/step\n",
            "17/17 [==============================] - 0s 3ms/step\n",
            "17/17 [==============================] - 0s 3ms/step\n",
            "17/17 [==============================] - 0s 5ms/step\n",
            "17/17 [==============================] - 0s 3ms/step\n",
            "17/17 [==============================] - 0s 3ms/step\n",
            "17/17 [==============================] - 0s 4ms/step\n",
            "17/17 [==============================] - 0s 4ms/step\n",
            "17/17 [==============================] - 0s 4ms/step\n",
            "17/17 [==============================] - 0s 3ms/step\n",
            "experiment 0\n",
            "batch 1\n",
            "samples train 150\n"
          ]
        },
        {
          "output_type": "stream",
          "name": "stderr",
          "text": [
            "/usr/local/lib/python3.9/dist-packages/tensorflow_probability/python/layers/util.py:95: UserWarning: `layer.add_variable` is deprecated and will be removed in a future version. Please use the `layer.add_weight()` method instead.\n",
            "  loc = add_variable_fn(\n",
            "/usr/local/lib/python3.9/dist-packages/tensorflow_probability/python/layers/util.py:105: UserWarning: `layer.add_variable` is deprecated and will be removed in a future version. Please use the `layer.add_weight()` method instead.\n",
            "  untransformed_scale = add_variable_fn(\n"
          ]
        },
        {
          "output_type": "stream",
          "name": "stdout",
          "text": [
            "15/15 [==============================] - 0s 4ms/step\n",
            "15/15 [==============================] - 0s 3ms/step\n",
            "15/15 [==============================] - 0s 5ms/step\n",
            "15/15 [==============================] - 0s 6ms/step\n",
            "15/15 [==============================] - 0s 3ms/step\n",
            "15/15 [==============================] - 0s 2ms/step\n",
            "15/15 [==============================] - 0s 2ms/step\n",
            "15/15 [==============================] - 0s 2ms/step\n",
            "15/15 [==============================] - 0s 2ms/step\n",
            "15/15 [==============================] - 0s 2ms/step\n",
            "15/15 [==============================] - 0s 2ms/step\n",
            "15/15 [==============================] - 0s 2ms/step\n",
            "15/15 [==============================] - 0s 2ms/step\n",
            "15/15 [==============================] - 0s 2ms/step\n",
            "15/15 [==============================] - 0s 2ms/step\n",
            "experiment 0\n",
            "batch 2\n",
            "samples train 225\n"
          ]
        },
        {
          "output_type": "stream",
          "name": "stderr",
          "text": [
            "/usr/local/lib/python3.9/dist-packages/tensorflow_probability/python/layers/util.py:95: UserWarning: `layer.add_variable` is deprecated and will be removed in a future version. Please use the `layer.add_weight()` method instead.\n",
            "  loc = add_variable_fn(\n",
            "/usr/local/lib/python3.9/dist-packages/tensorflow_probability/python/layers/util.py:105: UserWarning: `layer.add_variable` is deprecated and will be removed in a future version. Please use the `layer.add_weight()` method instead.\n",
            "  untransformed_scale = add_variable_fn(\n"
          ]
        },
        {
          "output_type": "stream",
          "name": "stdout",
          "text": [
            "12/12 [==============================] - 0s 2ms/step\n",
            "12/12 [==============================] - 0s 2ms/step\n",
            "12/12 [==============================] - 0s 2ms/step\n",
            "12/12 [==============================] - 0s 2ms/step\n",
            "12/12 [==============================] - 0s 2ms/step\n",
            "12/12 [==============================] - 0s 2ms/step\n",
            "12/12 [==============================] - 0s 2ms/step\n",
            "12/12 [==============================] - 0s 2ms/step\n",
            "12/12 [==============================] - 0s 3ms/step\n",
            "12/12 [==============================] - 0s 2ms/step\n",
            "12/12 [==============================] - 0s 2ms/step\n",
            "12/12 [==============================] - 0s 2ms/step\n",
            "12/12 [==============================] - 0s 2ms/step\n",
            "12/12 [==============================] - 0s 2ms/step\n",
            "12/12 [==============================] - 0s 2ms/step\n",
            "experiment 0\n",
            "batch 3\n",
            "samples train 300\n"
          ]
        },
        {
          "output_type": "stream",
          "name": "stderr",
          "text": [
            "/usr/local/lib/python3.9/dist-packages/tensorflow_probability/python/layers/util.py:95: UserWarning: `layer.add_variable` is deprecated and will be removed in a future version. Please use the `layer.add_weight()` method instead.\n",
            "  loc = add_variable_fn(\n",
            "/usr/local/lib/python3.9/dist-packages/tensorflow_probability/python/layers/util.py:105: UserWarning: `layer.add_variable` is deprecated and will be removed in a future version. Please use the `layer.add_weight()` method instead.\n",
            "  untransformed_scale = add_variable_fn(\n"
          ]
        },
        {
          "output_type": "stream",
          "name": "stdout",
          "text": [
            "10/10 [==============================] - 0s 3ms/step\n",
            "10/10 [==============================] - 0s 2ms/step\n",
            "10/10 [==============================] - 0s 2ms/step\n",
            "10/10 [==============================] - 0s 2ms/step\n",
            "10/10 [==============================] - 0s 3ms/step\n",
            "10/10 [==============================] - 0s 2ms/step\n",
            "10/10 [==============================] - 0s 2ms/step\n",
            "10/10 [==============================] - 0s 2ms/step\n",
            "10/10 [==============================] - 0s 2ms/step\n",
            "10/10 [==============================] - 0s 2ms/step\n",
            "10/10 [==============================] - 0s 3ms/step\n",
            "10/10 [==============================] - 0s 4ms/step\n",
            "10/10 [==============================] - 0s 4ms/step\n",
            "10/10 [==============================] - 0s 3ms/step\n",
            "10/10 [==============================] - 0s 4ms/step\n",
            "experiment 0\n",
            "batch 4\n",
            "samples train 375\n"
          ]
        },
        {
          "output_type": "stream",
          "name": "stderr",
          "text": [
            "/usr/local/lib/python3.9/dist-packages/tensorflow_probability/python/layers/util.py:95: UserWarning: `layer.add_variable` is deprecated and will be removed in a future version. Please use the `layer.add_weight()` method instead.\n",
            "  loc = add_variable_fn(\n",
            "/usr/local/lib/python3.9/dist-packages/tensorflow_probability/python/layers/util.py:105: UserWarning: `layer.add_variable` is deprecated and will be removed in a future version. Please use the `layer.add_weight()` method instead.\n",
            "  untransformed_scale = add_variable_fn(\n"
          ]
        },
        {
          "output_type": "stream",
          "name": "stdout",
          "text": [
            "8/8 [==============================] - 0s 4ms/step\n",
            "8/8 [==============================] - 0s 5ms/step\n",
            "8/8 [==============================] - 0s 3ms/step\n",
            "8/8 [==============================] - 0s 4ms/step\n",
            "8/8 [==============================] - 0s 3ms/step\n",
            "8/8 [==============================] - 0s 3ms/step\n",
            "8/8 [==============================] - 0s 2ms/step\n",
            "8/8 [==============================] - 0s 3ms/step\n",
            "8/8 [==============================] - 0s 3ms/step\n",
            "8/8 [==============================] - 0s 3ms/step\n",
            "8/8 [==============================] - 0s 3ms/step\n",
            "8/8 [==============================] - 0s 2ms/step\n",
            "8/8 [==============================] - 0s 3ms/step\n",
            "8/8 [==============================] - 0s 3ms/step\n",
            "8/8 [==============================] - 0s 3ms/step\n",
            "experiment 1\n",
            "batch 0\n",
            "samples train 75\n"
          ]
        },
        {
          "output_type": "stream",
          "name": "stderr",
          "text": [
            "/usr/local/lib/python3.9/dist-packages/tensorflow_probability/python/layers/util.py:95: UserWarning: `layer.add_variable` is deprecated and will be removed in a future version. Please use the `layer.add_weight()` method instead.\n",
            "  loc = add_variable_fn(\n",
            "/usr/local/lib/python3.9/dist-packages/tensorflow_probability/python/layers/util.py:105: UserWarning: `layer.add_variable` is deprecated and will be removed in a future version. Please use the `layer.add_weight()` method instead.\n",
            "  untransformed_scale = add_variable_fn(\n"
          ]
        },
        {
          "output_type": "stream",
          "name": "stdout",
          "text": [
            "17/17 [==============================] - 0s 2ms/step\n",
            "17/17 [==============================] - 0s 2ms/step\n",
            "17/17 [==============================] - 0s 2ms/step\n",
            "17/17 [==============================] - 0s 3ms/step\n",
            "17/17 [==============================] - 0s 2ms/step\n",
            "17/17 [==============================] - 0s 2ms/step\n",
            "17/17 [==============================] - 0s 3ms/step\n",
            "17/17 [==============================] - 0s 2ms/step\n",
            "17/17 [==============================] - 0s 2ms/step\n",
            "17/17 [==============================] - 0s 2ms/step\n",
            "17/17 [==============================] - 0s 2ms/step\n",
            "17/17 [==============================] - 0s 2ms/step\n",
            "17/17 [==============================] - 0s 2ms/step\n",
            "17/17 [==============================] - 0s 2ms/step\n",
            "17/17 [==============================] - 0s 2ms/step\n",
            "experiment 1\n",
            "batch 1\n",
            "samples train 150\n"
          ]
        },
        {
          "output_type": "stream",
          "name": "stderr",
          "text": [
            "/usr/local/lib/python3.9/dist-packages/tensorflow_probability/python/layers/util.py:95: UserWarning: `layer.add_variable` is deprecated and will be removed in a future version. Please use the `layer.add_weight()` method instead.\n",
            "  loc = add_variable_fn(\n",
            "/usr/local/lib/python3.9/dist-packages/tensorflow_probability/python/layers/util.py:105: UserWarning: `layer.add_variable` is deprecated and will be removed in a future version. Please use the `layer.add_weight()` method instead.\n",
            "  untransformed_scale = add_variable_fn(\n"
          ]
        },
        {
          "output_type": "stream",
          "name": "stdout",
          "text": [
            "15/15 [==============================] - 0s 2ms/step\n",
            "15/15 [==============================] - 0s 3ms/step\n",
            "15/15 [==============================] - 0s 2ms/step\n",
            "15/15 [==============================] - 0s 2ms/step\n",
            "15/15 [==============================] - 0s 2ms/step\n",
            "15/15 [==============================] - 0s 2ms/step\n",
            "15/15 [==============================] - 0s 3ms/step\n",
            "15/15 [==============================] - 0s 2ms/step\n",
            "15/15 [==============================] - 0s 2ms/step\n",
            "15/15 [==============================] - 0s 3ms/step\n",
            "15/15 [==============================] - 0s 3ms/step\n",
            "15/15 [==============================] - 0s 4ms/step\n",
            "15/15 [==============================] - 0s 3ms/step\n",
            "15/15 [==============================] - 0s 3ms/step\n",
            "15/15 [==============================] - 0s 3ms/step\n",
            "experiment 1\n",
            "batch 2\n",
            "samples train 225\n"
          ]
        },
        {
          "output_type": "stream",
          "name": "stderr",
          "text": [
            "/usr/local/lib/python3.9/dist-packages/tensorflow_probability/python/layers/util.py:95: UserWarning: `layer.add_variable` is deprecated and will be removed in a future version. Please use the `layer.add_weight()` method instead.\n",
            "  loc = add_variable_fn(\n",
            "/usr/local/lib/python3.9/dist-packages/tensorflow_probability/python/layers/util.py:105: UserWarning: `layer.add_variable` is deprecated and will be removed in a future version. Please use the `layer.add_weight()` method instead.\n",
            "  untransformed_scale = add_variable_fn(\n"
          ]
        },
        {
          "output_type": "stream",
          "name": "stdout",
          "text": [
            "12/12 [==============================] - 0s 2ms/step\n",
            "12/12 [==============================] - 0s 2ms/step\n",
            "12/12 [==============================] - 0s 2ms/step\n",
            "12/12 [==============================] - 0s 2ms/step\n",
            "12/12 [==============================] - 0s 2ms/step\n",
            "12/12 [==============================] - 0s 2ms/step\n",
            "12/12 [==============================] - 0s 2ms/step\n",
            "12/12 [==============================] - 0s 2ms/step\n",
            "12/12 [==============================] - 0s 3ms/step\n",
            "12/12 [==============================] - 0s 3ms/step\n",
            "12/12 [==============================] - 0s 3ms/step\n",
            "12/12 [==============================] - 0s 2ms/step\n",
            "12/12 [==============================] - 0s 2ms/step\n",
            "12/12 [==============================] - 0s 3ms/step\n",
            "12/12 [==============================] - 0s 2ms/step\n",
            "experiment 1\n",
            "batch 3\n",
            "samples train 300\n"
          ]
        },
        {
          "output_type": "stream",
          "name": "stderr",
          "text": [
            "/usr/local/lib/python3.9/dist-packages/tensorflow_probability/python/layers/util.py:95: UserWarning: `layer.add_variable` is deprecated and will be removed in a future version. Please use the `layer.add_weight()` method instead.\n",
            "  loc = add_variable_fn(\n",
            "/usr/local/lib/python3.9/dist-packages/tensorflow_probability/python/layers/util.py:105: UserWarning: `layer.add_variable` is deprecated and will be removed in a future version. Please use the `layer.add_weight()` method instead.\n",
            "  untransformed_scale = add_variable_fn(\n"
          ]
        },
        {
          "output_type": "stream",
          "name": "stdout",
          "text": [
            "10/10 [==============================] - 0s 3ms/step\n",
            "10/10 [==============================] - 0s 4ms/step\n",
            "10/10 [==============================] - 0s 4ms/step\n",
            "10/10 [==============================] - 0s 3ms/step\n",
            "10/10 [==============================] - 0s 4ms/step\n",
            "10/10 [==============================] - 0s 3ms/step\n",
            "10/10 [==============================] - 0s 4ms/step\n",
            "10/10 [==============================] - 0s 3ms/step\n",
            "10/10 [==============================] - 0s 4ms/step\n",
            "10/10 [==============================] - 0s 3ms/step\n",
            "10/10 [==============================] - 0s 3ms/step\n",
            "10/10 [==============================] - 0s 2ms/step\n",
            "10/10 [==============================] - 0s 2ms/step\n",
            "10/10 [==============================] - 0s 3ms/step\n",
            "10/10 [==============================] - 0s 4ms/step\n",
            "experiment 1\n",
            "batch 4\n",
            "samples train 375\n"
          ]
        },
        {
          "output_type": "stream",
          "name": "stderr",
          "text": [
            "/usr/local/lib/python3.9/dist-packages/tensorflow_probability/python/layers/util.py:95: UserWarning: `layer.add_variable` is deprecated and will be removed in a future version. Please use the `layer.add_weight()` method instead.\n",
            "  loc = add_variable_fn(\n",
            "/usr/local/lib/python3.9/dist-packages/tensorflow_probability/python/layers/util.py:105: UserWarning: `layer.add_variable` is deprecated and will be removed in a future version. Please use the `layer.add_weight()` method instead.\n",
            "  untransformed_scale = add_variable_fn(\n"
          ]
        },
        {
          "output_type": "stream",
          "name": "stdout",
          "text": [
            "8/8 [==============================] - 0s 4ms/step\n",
            "8/8 [==============================] - 0s 4ms/step\n",
            "8/8 [==============================] - 0s 4ms/step\n",
            "8/8 [==============================] - 0s 4ms/step\n",
            "8/8 [==============================] - 0s 4ms/step\n",
            "8/8 [==============================] - 0s 3ms/step\n",
            "8/8 [==============================] - 0s 2ms/step\n",
            "8/8 [==============================] - 0s 2ms/step\n",
            "8/8 [==============================] - 0s 2ms/step\n",
            "8/8 [==============================] - 0s 2ms/step\n",
            "8/8 [==============================] - 0s 2ms/step\n",
            "8/8 [==============================] - 0s 3ms/step\n",
            "8/8 [==============================] - 0s 3ms/step\n",
            "8/8 [==============================] - 0s 3ms/step\n",
            "8/8 [==============================] - 0s 3ms/step\n",
            "experiment 2\n",
            "batch 0\n",
            "samples train 75\n"
          ]
        },
        {
          "output_type": "stream",
          "name": "stderr",
          "text": [
            "/usr/local/lib/python3.9/dist-packages/tensorflow_probability/python/layers/util.py:95: UserWarning: `layer.add_variable` is deprecated and will be removed in a future version. Please use the `layer.add_weight()` method instead.\n",
            "  loc = add_variable_fn(\n",
            "/usr/local/lib/python3.9/dist-packages/tensorflow_probability/python/layers/util.py:105: UserWarning: `layer.add_variable` is deprecated and will be removed in a future version. Please use the `layer.add_weight()` method instead.\n",
            "  untransformed_scale = add_variable_fn(\n"
          ]
        },
        {
          "output_type": "stream",
          "name": "stdout",
          "text": [
            "17/17 [==============================] - 0s 2ms/step\n",
            "17/17 [==============================] - 0s 2ms/step\n",
            "17/17 [==============================] - 0s 2ms/step\n",
            "17/17 [==============================] - 0s 2ms/step\n",
            "17/17 [==============================] - 0s 2ms/step\n",
            "17/17 [==============================] - 0s 2ms/step\n",
            "17/17 [==============================] - 0s 2ms/step\n",
            "17/17 [==============================] - 0s 2ms/step\n",
            "17/17 [==============================] - 0s 2ms/step\n",
            "17/17 [==============================] - 0s 2ms/step\n",
            "17/17 [==============================] - 0s 2ms/step\n",
            "17/17 [==============================] - 0s 3ms/step\n",
            "17/17 [==============================] - 0s 2ms/step\n",
            "17/17 [==============================] - 0s 2ms/step\n",
            "17/17 [==============================] - 0s 2ms/step\n",
            "experiment 2\n",
            "batch 1\n",
            "samples train 150\n"
          ]
        },
        {
          "output_type": "stream",
          "name": "stderr",
          "text": [
            "/usr/local/lib/python3.9/dist-packages/tensorflow_probability/python/layers/util.py:95: UserWarning: `layer.add_variable` is deprecated and will be removed in a future version. Please use the `layer.add_weight()` method instead.\n",
            "  loc = add_variable_fn(\n",
            "/usr/local/lib/python3.9/dist-packages/tensorflow_probability/python/layers/util.py:105: UserWarning: `layer.add_variable` is deprecated and will be removed in a future version. Please use the `layer.add_weight()` method instead.\n",
            "  untransformed_scale = add_variable_fn(\n"
          ]
        },
        {
          "output_type": "stream",
          "name": "stdout",
          "text": [
            "15/15 [==============================] - 0s 2ms/step\n",
            "15/15 [==============================] - 0s 2ms/step\n",
            "15/15 [==============================] - 0s 2ms/step\n",
            "15/15 [==============================] - 0s 2ms/step\n",
            "15/15 [==============================] - 0s 2ms/step\n",
            "15/15 [==============================] - 0s 2ms/step\n",
            "15/15 [==============================] - 0s 3ms/step\n",
            "15/15 [==============================] - 0s 2ms/step\n",
            "15/15 [==============================] - 0s 2ms/step\n",
            "15/15 [==============================] - 0s 2ms/step\n",
            "15/15 [==============================] - 0s 3ms/step\n",
            "15/15 [==============================] - 0s 3ms/step\n",
            "15/15 [==============================] - 0s 2ms/step\n",
            "15/15 [==============================] - 0s 3ms/step\n",
            "15/15 [==============================] - 0s 3ms/step\n",
            "experiment 2\n",
            "batch 2\n",
            "samples train 225\n"
          ]
        },
        {
          "output_type": "stream",
          "name": "stderr",
          "text": [
            "/usr/local/lib/python3.9/dist-packages/tensorflow_probability/python/layers/util.py:95: UserWarning: `layer.add_variable` is deprecated and will be removed in a future version. Please use the `layer.add_weight()` method instead.\n",
            "  loc = add_variable_fn(\n",
            "/usr/local/lib/python3.9/dist-packages/tensorflow_probability/python/layers/util.py:105: UserWarning: `layer.add_variable` is deprecated and will be removed in a future version. Please use the `layer.add_weight()` method instead.\n",
            "  untransformed_scale = add_variable_fn(\n"
          ]
        },
        {
          "output_type": "stream",
          "name": "stdout",
          "text": [
            "12/12 [==============================] - 0s 3ms/step\n",
            "12/12 [==============================] - 0s 2ms/step\n",
            "12/12 [==============================] - 0s 2ms/step\n",
            "12/12 [==============================] - 0s 2ms/step\n",
            "12/12 [==============================] - 0s 2ms/step\n",
            "12/12 [==============================] - 0s 2ms/step\n",
            "12/12 [==============================] - 0s 3ms/step\n",
            "12/12 [==============================] - 0s 2ms/step\n",
            "12/12 [==============================] - 0s 3ms/step\n",
            "12/12 [==============================] - 0s 2ms/step\n",
            "12/12 [==============================] - 0s 2ms/step\n",
            "12/12 [==============================] - 0s 3ms/step\n",
            "12/12 [==============================] - 0s 3ms/step\n",
            "12/12 [==============================] - 0s 2ms/step\n",
            "12/12 [==============================] - 0s 2ms/step\n",
            "experiment 2\n",
            "batch 3\n",
            "samples train 300\n"
          ]
        },
        {
          "output_type": "stream",
          "name": "stderr",
          "text": [
            "/usr/local/lib/python3.9/dist-packages/tensorflow_probability/python/layers/util.py:95: UserWarning: `layer.add_variable` is deprecated and will be removed in a future version. Please use the `layer.add_weight()` method instead.\n",
            "  loc = add_variable_fn(\n",
            "/usr/local/lib/python3.9/dist-packages/tensorflow_probability/python/layers/util.py:105: UserWarning: `layer.add_variable` is deprecated and will be removed in a future version. Please use the `layer.add_weight()` method instead.\n",
            "  untransformed_scale = add_variable_fn(\n"
          ]
        },
        {
          "output_type": "stream",
          "name": "stdout",
          "text": [
            "10/10 [==============================] - 0s 2ms/step\n",
            "10/10 [==============================] - 0s 3ms/step\n",
            "10/10 [==============================] - 0s 2ms/step\n",
            "10/10 [==============================] - 0s 3ms/step\n",
            "10/10 [==============================] - 0s 2ms/step\n",
            "10/10 [==============================] - 0s 2ms/step\n",
            "10/10 [==============================] - 0s 2ms/step\n",
            "10/10 [==============================] - 0s 2ms/step\n",
            "10/10 [==============================] - 0s 4ms/step\n",
            "10/10 [==============================] - 0s 2ms/step\n",
            "10/10 [==============================] - 0s 2ms/step\n",
            "10/10 [==============================] - 0s 3ms/step\n",
            "10/10 [==============================] - 0s 2ms/step\n",
            "10/10 [==============================] - 0s 2ms/step\n",
            "10/10 [==============================] - 0s 2ms/step\n",
            "experiment 2\n",
            "batch 4\n",
            "samples train 375\n"
          ]
        },
        {
          "output_type": "stream",
          "name": "stderr",
          "text": [
            "/usr/local/lib/python3.9/dist-packages/tensorflow_probability/python/layers/util.py:95: UserWarning: `layer.add_variable` is deprecated and will be removed in a future version. Please use the `layer.add_weight()` method instead.\n",
            "  loc = add_variable_fn(\n",
            "/usr/local/lib/python3.9/dist-packages/tensorflow_probability/python/layers/util.py:105: UserWarning: `layer.add_variable` is deprecated and will be removed in a future version. Please use the `layer.add_weight()` method instead.\n",
            "  untransformed_scale = add_variable_fn(\n"
          ]
        },
        {
          "output_type": "stream",
          "name": "stdout",
          "text": [
            "8/8 [==============================] - 0s 2ms/step\n",
            "8/8 [==============================] - 0s 3ms/step\n",
            "8/8 [==============================] - 0s 2ms/step\n",
            "8/8 [==============================] - 0s 2ms/step\n",
            "8/8 [==============================] - 0s 2ms/step\n",
            "8/8 [==============================] - 0s 3ms/step\n",
            "8/8 [==============================] - 0s 3ms/step\n",
            "8/8 [==============================] - 0s 3ms/step\n",
            "8/8 [==============================] - 0s 2ms/step\n",
            "8/8 [==============================] - 0s 2ms/step\n",
            "8/8 [==============================] - 0s 2ms/step\n",
            "8/8 [==============================] - 0s 3ms/step\n",
            "8/8 [==============================] - 0s 2ms/step\n",
            "8/8 [==============================] - 0s 2ms/step\n",
            "8/8 [==============================] - 0s 3ms/step\n",
            "experiment 3\n",
            "batch 0\n",
            "samples train 75\n"
          ]
        },
        {
          "output_type": "stream",
          "name": "stderr",
          "text": [
            "/usr/local/lib/python3.9/dist-packages/tensorflow_probability/python/layers/util.py:95: UserWarning: `layer.add_variable` is deprecated and will be removed in a future version. Please use the `layer.add_weight()` method instead.\n",
            "  loc = add_variable_fn(\n",
            "/usr/local/lib/python3.9/dist-packages/tensorflow_probability/python/layers/util.py:105: UserWarning: `layer.add_variable` is deprecated and will be removed in a future version. Please use the `layer.add_weight()` method instead.\n",
            "  untransformed_scale = add_variable_fn(\n"
          ]
        },
        {
          "output_type": "stream",
          "name": "stdout",
          "text": [
            "17/17 [==============================] - 0s 2ms/step\n",
            "17/17 [==============================] - 0s 2ms/step\n",
            "17/17 [==============================] - 0s 2ms/step\n",
            "17/17 [==============================] - 0s 2ms/step\n",
            "17/17 [==============================] - 0s 2ms/step\n",
            "17/17 [==============================] - 0s 2ms/step\n",
            "17/17 [==============================] - 0s 2ms/step\n",
            "17/17 [==============================] - 0s 2ms/step\n",
            "17/17 [==============================] - 0s 2ms/step\n",
            "17/17 [==============================] - 0s 2ms/step\n",
            "17/17 [==============================] - 0s 2ms/step\n",
            "17/17 [==============================] - 0s 2ms/step\n",
            "17/17 [==============================] - 0s 2ms/step\n",
            "17/17 [==============================] - 0s 2ms/step\n",
            "17/17 [==============================] - 0s 2ms/step\n",
            "experiment 3\n",
            "batch 1\n",
            "samples train 150\n"
          ]
        },
        {
          "output_type": "stream",
          "name": "stderr",
          "text": [
            "/usr/local/lib/python3.9/dist-packages/tensorflow_probability/python/layers/util.py:95: UserWarning: `layer.add_variable` is deprecated and will be removed in a future version. Please use the `layer.add_weight()` method instead.\n",
            "  loc = add_variable_fn(\n",
            "/usr/local/lib/python3.9/dist-packages/tensorflow_probability/python/layers/util.py:105: UserWarning: `layer.add_variable` is deprecated and will be removed in a future version. Please use the `layer.add_weight()` method instead.\n",
            "  untransformed_scale = add_variable_fn(\n"
          ]
        },
        {
          "output_type": "stream",
          "name": "stdout",
          "text": [
            "15/15 [==============================] - 0s 3ms/step\n",
            "15/15 [==============================] - 0s 2ms/step\n",
            "15/15 [==============================] - 0s 3ms/step\n",
            "15/15 [==============================] - 0s 4ms/step\n",
            "15/15 [==============================] - 0s 4ms/step\n",
            "15/15 [==============================] - 0s 4ms/step\n",
            "15/15 [==============================] - 0s 3ms/step\n",
            "15/15 [==============================] - 0s 3ms/step\n",
            "15/15 [==============================] - 0s 4ms/step\n",
            "15/15 [==============================] - 0s 4ms/step\n",
            "15/15 [==============================] - 0s 4ms/step\n",
            "15/15 [==============================] - 0s 4ms/step\n",
            "15/15 [==============================] - 0s 3ms/step\n",
            "15/15 [==============================] - 0s 3ms/step\n",
            "15/15 [==============================] - 0s 3ms/step\n",
            "experiment 3\n",
            "batch 2\n",
            "samples train 225\n"
          ]
        },
        {
          "output_type": "stream",
          "name": "stderr",
          "text": [
            "/usr/local/lib/python3.9/dist-packages/tensorflow_probability/python/layers/util.py:95: UserWarning: `layer.add_variable` is deprecated and will be removed in a future version. Please use the `layer.add_weight()` method instead.\n",
            "  loc = add_variable_fn(\n",
            "/usr/local/lib/python3.9/dist-packages/tensorflow_probability/python/layers/util.py:105: UserWarning: `layer.add_variable` is deprecated and will be removed in a future version. Please use the `layer.add_weight()` method instead.\n",
            "  untransformed_scale = add_variable_fn(\n"
          ]
        },
        {
          "output_type": "stream",
          "name": "stdout",
          "text": [
            "12/12 [==============================] - 0s 4ms/step\n",
            "12/12 [==============================] - 0s 4ms/step\n",
            "12/12 [==============================] - 0s 3ms/step\n",
            "12/12 [==============================] - 0s 4ms/step\n",
            "12/12 [==============================] - 0s 3ms/step\n",
            "12/12 [==============================] - 0s 3ms/step\n",
            "12/12 [==============================] - 0s 4ms/step\n",
            "12/12 [==============================] - 0s 2ms/step\n",
            "12/12 [==============================] - 0s 2ms/step\n",
            "12/12 [==============================] - 0s 3ms/step\n",
            "12/12 [==============================] - 0s 3ms/step\n",
            "12/12 [==============================] - 0s 2ms/step\n",
            "12/12 [==============================] - 0s 2ms/step\n",
            "12/12 [==============================] - 0s 2ms/step\n",
            "12/12 [==============================] - 0s 2ms/step\n",
            "experiment 3\n",
            "batch 3\n",
            "samples train 300\n"
          ]
        },
        {
          "output_type": "stream",
          "name": "stderr",
          "text": [
            "/usr/local/lib/python3.9/dist-packages/tensorflow_probability/python/layers/util.py:95: UserWarning: `layer.add_variable` is deprecated and will be removed in a future version. Please use the `layer.add_weight()` method instead.\n",
            "  loc = add_variable_fn(\n",
            "/usr/local/lib/python3.9/dist-packages/tensorflow_probability/python/layers/util.py:105: UserWarning: `layer.add_variable` is deprecated and will be removed in a future version. Please use the `layer.add_weight()` method instead.\n",
            "  untransformed_scale = add_variable_fn(\n"
          ]
        },
        {
          "output_type": "stream",
          "name": "stdout",
          "text": [
            "10/10 [==============================] - 0s 2ms/step\n",
            "10/10 [==============================] - 0s 2ms/step\n",
            "10/10 [==============================] - 0s 3ms/step\n",
            "10/10 [==============================] - 0s 3ms/step\n",
            "10/10 [==============================] - 0s 3ms/step\n",
            "10/10 [==============================] - 0s 2ms/step\n",
            "10/10 [==============================] - 0s 3ms/step\n",
            "10/10 [==============================] - 0s 3ms/step\n",
            "10/10 [==============================] - 0s 2ms/step\n",
            "10/10 [==============================] - 0s 2ms/step\n",
            "10/10 [==============================] - 0s 2ms/step\n",
            "10/10 [==============================] - 0s 3ms/step\n",
            "10/10 [==============================] - 0s 4ms/step\n",
            "10/10 [==============================] - 0s 3ms/step\n",
            "10/10 [==============================] - 0s 5ms/step\n",
            "experiment 3\n",
            "batch 4\n",
            "samples train 375\n"
          ]
        },
        {
          "output_type": "stream",
          "name": "stderr",
          "text": [
            "/usr/local/lib/python3.9/dist-packages/tensorflow_probability/python/layers/util.py:95: UserWarning: `layer.add_variable` is deprecated and will be removed in a future version. Please use the `layer.add_weight()` method instead.\n",
            "  loc = add_variable_fn(\n",
            "/usr/local/lib/python3.9/dist-packages/tensorflow_probability/python/layers/util.py:105: UserWarning: `layer.add_variable` is deprecated and will be removed in a future version. Please use the `layer.add_weight()` method instead.\n",
            "  untransformed_scale = add_variable_fn(\n"
          ]
        },
        {
          "output_type": "stream",
          "name": "stdout",
          "text": [
            "8/8 [==============================] - 0s 5ms/step\n",
            "8/8 [==============================] - 0s 4ms/step\n",
            "8/8 [==============================] - 0s 6ms/step\n",
            "8/8 [==============================] - 0s 3ms/step\n",
            "8/8 [==============================] - 0s 5ms/step\n",
            "8/8 [==============================] - 0s 4ms/step\n",
            "8/8 [==============================] - 0s 3ms/step\n",
            "8/8 [==============================] - 0s 4ms/step\n",
            "8/8 [==============================] - 0s 3ms/step\n",
            "8/8 [==============================] - 0s 4ms/step\n",
            "8/8 [==============================] - 0s 4ms/step\n",
            "8/8 [==============================] - 0s 3ms/step\n",
            "8/8 [==============================] - 0s 3ms/step\n",
            "8/8 [==============================] - 0s 4ms/step\n",
            "8/8 [==============================] - 0s 3ms/step\n",
            "experiment 4\n",
            "batch 0\n",
            "samples train 75\n"
          ]
        },
        {
          "output_type": "stream",
          "name": "stderr",
          "text": [
            "/usr/local/lib/python3.9/dist-packages/tensorflow_probability/python/layers/util.py:95: UserWarning: `layer.add_variable` is deprecated and will be removed in a future version. Please use the `layer.add_weight()` method instead.\n",
            "  loc = add_variable_fn(\n",
            "/usr/local/lib/python3.9/dist-packages/tensorflow_probability/python/layers/util.py:105: UserWarning: `layer.add_variable` is deprecated and will be removed in a future version. Please use the `layer.add_weight()` method instead.\n",
            "  untransformed_scale = add_variable_fn(\n"
          ]
        },
        {
          "output_type": "stream",
          "name": "stdout",
          "text": [
            "17/17 [==============================] - 0s 2ms/step\n",
            "17/17 [==============================] - 0s 2ms/step\n",
            "17/17 [==============================] - 0s 2ms/step\n",
            "17/17 [==============================] - 0s 2ms/step\n",
            "17/17 [==============================] - 0s 2ms/step\n",
            "17/17 [==============================] - 0s 2ms/step\n",
            "17/17 [==============================] - 0s 2ms/step\n",
            "17/17 [==============================] - 0s 2ms/step\n",
            "17/17 [==============================] - 0s 2ms/step\n",
            "17/17 [==============================] - 0s 2ms/step\n",
            "17/17 [==============================] - 0s 2ms/step\n",
            "17/17 [==============================] - 0s 2ms/step\n",
            "17/17 [==============================] - 0s 2ms/step\n",
            "17/17 [==============================] - 0s 2ms/step\n",
            "17/17 [==============================] - 0s 2ms/step\n",
            "experiment 4\n",
            "batch 1\n",
            "samples train 150\n"
          ]
        },
        {
          "output_type": "stream",
          "name": "stderr",
          "text": [
            "/usr/local/lib/python3.9/dist-packages/tensorflow_probability/python/layers/util.py:95: UserWarning: `layer.add_variable` is deprecated and will be removed in a future version. Please use the `layer.add_weight()` method instead.\n",
            "  loc = add_variable_fn(\n",
            "/usr/local/lib/python3.9/dist-packages/tensorflow_probability/python/layers/util.py:105: UserWarning: `layer.add_variable` is deprecated and will be removed in a future version. Please use the `layer.add_weight()` method instead.\n",
            "  untransformed_scale = add_variable_fn(\n"
          ]
        },
        {
          "output_type": "stream",
          "name": "stdout",
          "text": [
            "15/15 [==============================] - 0s 2ms/step\n",
            "15/15 [==============================] - 0s 2ms/step\n",
            "15/15 [==============================] - 0s 2ms/step\n",
            "15/15 [==============================] - 0s 2ms/step\n",
            "15/15 [==============================] - 0s 2ms/step\n",
            "15/15 [==============================] - 0s 2ms/step\n",
            "15/15 [==============================] - 0s 2ms/step\n",
            "15/15 [==============================] - 0s 2ms/step\n",
            "15/15 [==============================] - 0s 2ms/step\n",
            "15/15 [==============================] - 0s 2ms/step\n",
            "15/15 [==============================] - 0s 2ms/step\n",
            "15/15 [==============================] - 0s 2ms/step\n",
            "15/15 [==============================] - 0s 2ms/step\n",
            "15/15 [==============================] - 0s 2ms/step\n",
            "15/15 [==============================] - 0s 2ms/step\n",
            "experiment 4\n",
            "batch 2\n",
            "samples train 225\n"
          ]
        },
        {
          "output_type": "stream",
          "name": "stderr",
          "text": [
            "/usr/local/lib/python3.9/dist-packages/tensorflow_probability/python/layers/util.py:95: UserWarning: `layer.add_variable` is deprecated and will be removed in a future version. Please use the `layer.add_weight()` method instead.\n",
            "  loc = add_variable_fn(\n",
            "/usr/local/lib/python3.9/dist-packages/tensorflow_probability/python/layers/util.py:105: UserWarning: `layer.add_variable` is deprecated and will be removed in a future version. Please use the `layer.add_weight()` method instead.\n",
            "  untransformed_scale = add_variable_fn(\n"
          ]
        },
        {
          "output_type": "stream",
          "name": "stdout",
          "text": [
            "12/12 [==============================] - 0s 3ms/step\n",
            "12/12 [==============================] - 0s 2ms/step\n",
            "12/12 [==============================] - 0s 3ms/step\n",
            "12/12 [==============================] - 0s 2ms/step\n",
            "12/12 [==============================] - 0s 3ms/step\n",
            "12/12 [==============================] - 0s 2ms/step\n",
            "12/12 [==============================] - 0s 2ms/step\n",
            "12/12 [==============================] - 0s 2ms/step\n",
            "12/12 [==============================] - 0s 2ms/step\n",
            "12/12 [==============================] - 0s 2ms/step\n",
            "12/12 [==============================] - 0s 2ms/step\n",
            "12/12 [==============================] - 0s 3ms/step\n",
            "12/12 [==============================] - 0s 2ms/step\n",
            "12/12 [==============================] - 0s 3ms/step\n",
            "12/12 [==============================] - 0s 2ms/step\n",
            "experiment 4\n",
            "batch 3\n",
            "samples train 300\n"
          ]
        },
        {
          "output_type": "stream",
          "name": "stderr",
          "text": [
            "/usr/local/lib/python3.9/dist-packages/tensorflow_probability/python/layers/util.py:95: UserWarning: `layer.add_variable` is deprecated and will be removed in a future version. Please use the `layer.add_weight()` method instead.\n",
            "  loc = add_variable_fn(\n",
            "/usr/local/lib/python3.9/dist-packages/tensorflow_probability/python/layers/util.py:105: UserWarning: `layer.add_variable` is deprecated and will be removed in a future version. Please use the `layer.add_weight()` method instead.\n",
            "  untransformed_scale = add_variable_fn(\n"
          ]
        },
        {
          "output_type": "stream",
          "name": "stdout",
          "text": [
            "10/10 [==============================] - 0s 2ms/step\n",
            "10/10 [==============================] - 0s 2ms/step\n",
            "10/10 [==============================] - 0s 3ms/step\n",
            "10/10 [==============================] - 0s 2ms/step\n",
            "10/10 [==============================] - 0s 2ms/step\n",
            "10/10 [==============================] - 0s 2ms/step\n",
            "10/10 [==============================] - 0s 2ms/step\n",
            "10/10 [==============================] - 0s 2ms/step\n",
            "10/10 [==============================] - 0s 3ms/step\n",
            "10/10 [==============================] - 0s 2ms/step\n",
            "10/10 [==============================] - 0s 2ms/step\n",
            "10/10 [==============================] - 0s 2ms/step\n",
            "10/10 [==============================] - 0s 3ms/step\n",
            "10/10 [==============================] - 0s 2ms/step\n",
            "10/10 [==============================] - 0s 2ms/step\n",
            "experiment 4\n",
            "batch 4\n",
            "samples train 375\n"
          ]
        },
        {
          "output_type": "stream",
          "name": "stderr",
          "text": [
            "/usr/local/lib/python3.9/dist-packages/tensorflow_probability/python/layers/util.py:95: UserWarning: `layer.add_variable` is deprecated and will be removed in a future version. Please use the `layer.add_weight()` method instead.\n",
            "  loc = add_variable_fn(\n",
            "/usr/local/lib/python3.9/dist-packages/tensorflow_probability/python/layers/util.py:105: UserWarning: `layer.add_variable` is deprecated and will be removed in a future version. Please use the `layer.add_weight()` method instead.\n",
            "  untransformed_scale = add_variable_fn(\n"
          ]
        },
        {
          "output_type": "stream",
          "name": "stdout",
          "text": [
            "8/8 [==============================] - 0s 3ms/step\n",
            "8/8 [==============================] - 0s 3ms/step\n",
            "8/8 [==============================] - 0s 3ms/step\n",
            "8/8 [==============================] - 0s 3ms/step\n",
            "8/8 [==============================] - 0s 3ms/step\n",
            "8/8 [==============================] - 0s 3ms/step\n",
            "8/8 [==============================] - 0s 3ms/step\n",
            "8/8 [==============================] - 0s 3ms/step\n",
            "8/8 [==============================] - 0s 3ms/step\n",
            "8/8 [==============================] - 0s 3ms/step\n",
            "8/8 [==============================] - 0s 3ms/step\n",
            "8/8 [==============================] - 0s 4ms/step\n",
            "8/8 [==============================] - 0s 3ms/step\n",
            "8/8 [==============================] - 0s 3ms/step\n",
            "8/8 [==============================] - 0s 3ms/step\n",
            "experiment 5\n",
            "batch 0\n",
            "samples train 75\n"
          ]
        },
        {
          "output_type": "stream",
          "name": "stderr",
          "text": [
            "/usr/local/lib/python3.9/dist-packages/tensorflow_probability/python/layers/util.py:95: UserWarning: `layer.add_variable` is deprecated and will be removed in a future version. Please use the `layer.add_weight()` method instead.\n",
            "  loc = add_variable_fn(\n",
            "/usr/local/lib/python3.9/dist-packages/tensorflow_probability/python/layers/util.py:105: UserWarning: `layer.add_variable` is deprecated and will be removed in a future version. Please use the `layer.add_weight()` method instead.\n",
            "  untransformed_scale = add_variable_fn(\n"
          ]
        },
        {
          "output_type": "stream",
          "name": "stdout",
          "text": [
            "17/17 [==============================] - 0s 2ms/step\n",
            "17/17 [==============================] - 0s 2ms/step\n",
            "17/17 [==============================] - 0s 2ms/step\n",
            "17/17 [==============================] - 0s 2ms/step\n",
            "17/17 [==============================] - 0s 2ms/step\n",
            "17/17 [==============================] - 0s 2ms/step\n",
            "17/17 [==============================] - 0s 2ms/step\n",
            "17/17 [==============================] - 0s 3ms/step\n",
            "17/17 [==============================] - 0s 2ms/step\n",
            "17/17 [==============================] - 0s 2ms/step\n",
            "17/17 [==============================] - 0s 2ms/step\n",
            "17/17 [==============================] - 0s 2ms/step\n",
            "17/17 [==============================] - 0s 2ms/step\n",
            "17/17 [==============================] - 0s 3ms/step\n",
            "17/17 [==============================] - 0s 3ms/step\n",
            "experiment 5\n",
            "batch 1\n",
            "samples train 150\n"
          ]
        },
        {
          "output_type": "stream",
          "name": "stderr",
          "text": [
            "/usr/local/lib/python3.9/dist-packages/tensorflow_probability/python/layers/util.py:95: UserWarning: `layer.add_variable` is deprecated and will be removed in a future version. Please use the `layer.add_weight()` method instead.\n",
            "  loc = add_variable_fn(\n",
            "/usr/local/lib/python3.9/dist-packages/tensorflow_probability/python/layers/util.py:105: UserWarning: `layer.add_variable` is deprecated and will be removed in a future version. Please use the `layer.add_weight()` method instead.\n",
            "  untransformed_scale = add_variable_fn(\n"
          ]
        },
        {
          "output_type": "stream",
          "name": "stdout",
          "text": [
            "15/15 [==============================] - 0s 2ms/step\n",
            "15/15 [==============================] - 0s 2ms/step\n",
            "15/15 [==============================] - 0s 2ms/step\n",
            "15/15 [==============================] - 0s 2ms/step\n",
            "15/15 [==============================] - 0s 3ms/step\n",
            "15/15 [==============================] - 0s 4ms/step\n",
            "15/15 [==============================] - 0s 3ms/step\n",
            "15/15 [==============================] - 0s 3ms/step\n",
            "15/15 [==============================] - 0s 3ms/step\n",
            "15/15 [==============================] - 0s 5ms/step\n",
            "15/15 [==============================] - 0s 3ms/step\n",
            "15/15 [==============================] - 0s 3ms/step\n",
            "15/15 [==============================] - 0s 3ms/step\n",
            "15/15 [==============================] - 0s 2ms/step\n",
            "15/15 [==============================] - 0s 2ms/step\n",
            "experiment 5\n",
            "batch 2\n",
            "samples train 225\n"
          ]
        },
        {
          "output_type": "stream",
          "name": "stderr",
          "text": [
            "/usr/local/lib/python3.9/dist-packages/tensorflow_probability/python/layers/util.py:95: UserWarning: `layer.add_variable` is deprecated and will be removed in a future version. Please use the `layer.add_weight()` method instead.\n",
            "  loc = add_variable_fn(\n",
            "/usr/local/lib/python3.9/dist-packages/tensorflow_probability/python/layers/util.py:105: UserWarning: `layer.add_variable` is deprecated and will be removed in a future version. Please use the `layer.add_weight()` method instead.\n",
            "  untransformed_scale = add_variable_fn(\n"
          ]
        },
        {
          "output_type": "stream",
          "name": "stdout",
          "text": [
            "12/12 [==============================] - 0s 3ms/step\n",
            "12/12 [==============================] - 0s 2ms/step\n",
            "12/12 [==============================] - 0s 2ms/step\n",
            "12/12 [==============================] - 0s 4ms/step\n",
            "12/12 [==============================] - 0s 3ms/step\n",
            "12/12 [==============================] - 0s 2ms/step\n",
            "12/12 [==============================] - 0s 3ms/step\n",
            "12/12 [==============================] - 0s 3ms/step\n",
            "12/12 [==============================] - 0s 4ms/step\n",
            "12/12 [==============================] - 0s 3ms/step\n",
            "12/12 [==============================] - 0s 3ms/step\n",
            "12/12 [==============================] - 0s 3ms/step\n",
            "12/12 [==============================] - 0s 4ms/step\n",
            "12/12 [==============================] - 0s 4ms/step\n",
            "12/12 [==============================] - 0s 4ms/step\n",
            "experiment 5\n",
            "batch 3\n",
            "samples train 300\n"
          ]
        },
        {
          "output_type": "stream",
          "name": "stderr",
          "text": [
            "/usr/local/lib/python3.9/dist-packages/tensorflow_probability/python/layers/util.py:95: UserWarning: `layer.add_variable` is deprecated and will be removed in a future version. Please use the `layer.add_weight()` method instead.\n",
            "  loc = add_variable_fn(\n",
            "/usr/local/lib/python3.9/dist-packages/tensorflow_probability/python/layers/util.py:105: UserWarning: `layer.add_variable` is deprecated and will be removed in a future version. Please use the `layer.add_weight()` method instead.\n",
            "  untransformed_scale = add_variable_fn(\n"
          ]
        },
        {
          "output_type": "stream",
          "name": "stdout",
          "text": [
            "10/10 [==============================] - 0s 4ms/step\n",
            "10/10 [==============================] - 0s 4ms/step\n",
            "10/10 [==============================] - 0s 4ms/step\n",
            "10/10 [==============================] - 0s 3ms/step\n",
            "10/10 [==============================] - 0s 4ms/step\n",
            "10/10 [==============================] - 0s 3ms/step\n",
            "10/10 [==============================] - 0s 3ms/step\n",
            "10/10 [==============================] - 0s 3ms/step\n",
            "10/10 [==============================] - 0s 3ms/step\n",
            "10/10 [==============================] - 0s 2ms/step\n",
            "10/10 [==============================] - 0s 2ms/step\n",
            "10/10 [==============================] - 0s 3ms/step\n",
            "10/10 [==============================] - 0s 3ms/step\n",
            "10/10 [==============================] - 0s 2ms/step\n",
            "10/10 [==============================] - 0s 3ms/step\n",
            "experiment 5\n",
            "batch 4\n",
            "samples train 375\n"
          ]
        },
        {
          "output_type": "stream",
          "name": "stderr",
          "text": [
            "/usr/local/lib/python3.9/dist-packages/tensorflow_probability/python/layers/util.py:95: UserWarning: `layer.add_variable` is deprecated and will be removed in a future version. Please use the `layer.add_weight()` method instead.\n",
            "  loc = add_variable_fn(\n",
            "/usr/local/lib/python3.9/dist-packages/tensorflow_probability/python/layers/util.py:105: UserWarning: `layer.add_variable` is deprecated and will be removed in a future version. Please use the `layer.add_weight()` method instead.\n",
            "  untransformed_scale = add_variable_fn(\n"
          ]
        },
        {
          "output_type": "stream",
          "name": "stdout",
          "text": [
            "8/8 [==============================] - 0s 3ms/step\n",
            "8/8 [==============================] - 0s 2ms/step\n",
            "8/8 [==============================] - 0s 2ms/step\n",
            "8/8 [==============================] - 0s 2ms/step\n",
            "8/8 [==============================] - 0s 2ms/step\n",
            "8/8 [==============================] - 0s 2ms/step\n",
            "8/8 [==============================] - 0s 2ms/step\n",
            "8/8 [==============================] - 0s 2ms/step\n",
            "8/8 [==============================] - 0s 3ms/step\n",
            "8/8 [==============================] - 0s 2ms/step\n",
            "8/8 [==============================] - 0s 3ms/step\n",
            "8/8 [==============================] - 0s 3ms/step\n",
            "8/8 [==============================] - 0s 3ms/step\n",
            "8/8 [==============================] - 0s 4ms/step\n",
            "8/8 [==============================] - 0s 4ms/step\n",
            "experiment 6\n",
            "batch 0\n",
            "samples train 75\n"
          ]
        },
        {
          "output_type": "stream",
          "name": "stderr",
          "text": [
            "/usr/local/lib/python3.9/dist-packages/tensorflow_probability/python/layers/util.py:95: UserWarning: `layer.add_variable` is deprecated and will be removed in a future version. Please use the `layer.add_weight()` method instead.\n",
            "  loc = add_variable_fn(\n",
            "/usr/local/lib/python3.9/dist-packages/tensorflow_probability/python/layers/util.py:105: UserWarning: `layer.add_variable` is deprecated and will be removed in a future version. Please use the `layer.add_weight()` method instead.\n",
            "  untransformed_scale = add_variable_fn(\n"
          ]
        },
        {
          "output_type": "stream",
          "name": "stdout",
          "text": [
            "17/17 [==============================] - 0s 2ms/step\n",
            "17/17 [==============================] - 0s 2ms/step\n",
            "17/17 [==============================] - 0s 2ms/step\n",
            "17/17 [==============================] - 0s 2ms/step\n",
            "17/17 [==============================] - 0s 2ms/step\n",
            "17/17 [==============================] - 0s 2ms/step\n",
            "17/17 [==============================] - 0s 2ms/step\n",
            "17/17 [==============================] - 0s 2ms/step\n",
            "17/17 [==============================] - 0s 2ms/step\n",
            "17/17 [==============================] - 0s 2ms/step\n",
            "17/17 [==============================] - 0s 4ms/step\n",
            "17/17 [==============================] - 0s 2ms/step\n",
            "17/17 [==============================] - 0s 2ms/step\n",
            "17/17 [==============================] - 0s 2ms/step\n",
            "17/17 [==============================] - 0s 2ms/step\n",
            "experiment 6\n",
            "batch 1\n",
            "samples train 150\n"
          ]
        },
        {
          "output_type": "stream",
          "name": "stderr",
          "text": [
            "/usr/local/lib/python3.9/dist-packages/tensorflow_probability/python/layers/util.py:95: UserWarning: `layer.add_variable` is deprecated and will be removed in a future version. Please use the `layer.add_weight()` method instead.\n",
            "  loc = add_variable_fn(\n",
            "/usr/local/lib/python3.9/dist-packages/tensorflow_probability/python/layers/util.py:105: UserWarning: `layer.add_variable` is deprecated and will be removed in a future version. Please use the `layer.add_weight()` method instead.\n",
            "  untransformed_scale = add_variable_fn(\n"
          ]
        },
        {
          "output_type": "stream",
          "name": "stdout",
          "text": [
            "15/15 [==============================] - 0s 2ms/step\n",
            "15/15 [==============================] - 0s 2ms/step\n",
            "15/15 [==============================] - 0s 2ms/step\n",
            "15/15 [==============================] - 0s 2ms/step\n",
            "15/15 [==============================] - 0s 2ms/step\n",
            "15/15 [==============================] - 0s 2ms/step\n",
            "15/15 [==============================] - 0s 2ms/step\n",
            "15/15 [==============================] - 0s 2ms/step\n",
            "15/15 [==============================] - 0s 2ms/step\n",
            "15/15 [==============================] - 0s 2ms/step\n",
            "15/15 [==============================] - 0s 3ms/step\n",
            "15/15 [==============================] - 0s 2ms/step\n",
            "15/15 [==============================] - 0s 2ms/step\n",
            "15/15 [==============================] - 0s 2ms/step\n",
            "15/15 [==============================] - 0s 3ms/step\n",
            "experiment 6\n",
            "batch 2\n",
            "samples train 225\n"
          ]
        },
        {
          "output_type": "stream",
          "name": "stderr",
          "text": [
            "/usr/local/lib/python3.9/dist-packages/tensorflow_probability/python/layers/util.py:95: UserWarning: `layer.add_variable` is deprecated and will be removed in a future version. Please use the `layer.add_weight()` method instead.\n",
            "  loc = add_variable_fn(\n",
            "/usr/local/lib/python3.9/dist-packages/tensorflow_probability/python/layers/util.py:105: UserWarning: `layer.add_variable` is deprecated and will be removed in a future version. Please use the `layer.add_weight()` method instead.\n",
            "  untransformed_scale = add_variable_fn(\n"
          ]
        },
        {
          "output_type": "stream",
          "name": "stdout",
          "text": [
            "12/12 [==============================] - 0s 4ms/step\n",
            "12/12 [==============================] - 0s 3ms/step\n",
            "12/12 [==============================] - 0s 3ms/step\n",
            "12/12 [==============================] - 0s 3ms/step\n",
            "12/12 [==============================] - 0s 3ms/step\n",
            "12/12 [==============================] - 0s 3ms/step\n",
            "12/12 [==============================] - 0s 4ms/step\n",
            "12/12 [==============================] - 0s 3ms/step\n",
            "12/12 [==============================] - 0s 3ms/step\n",
            "12/12 [==============================] - 0s 2ms/step\n",
            "12/12 [==============================] - 0s 2ms/step\n",
            "12/12 [==============================] - 0s 2ms/step\n",
            "12/12 [==============================] - 0s 2ms/step\n",
            "12/12 [==============================] - 0s 2ms/step\n",
            "12/12 [==============================] - 0s 2ms/step\n",
            "experiment 6\n",
            "batch 3\n",
            "samples train 300\n"
          ]
        },
        {
          "output_type": "stream",
          "name": "stderr",
          "text": [
            "/usr/local/lib/python3.9/dist-packages/tensorflow_probability/python/layers/util.py:95: UserWarning: `layer.add_variable` is deprecated and will be removed in a future version. Please use the `layer.add_weight()` method instead.\n",
            "  loc = add_variable_fn(\n",
            "/usr/local/lib/python3.9/dist-packages/tensorflow_probability/python/layers/util.py:105: UserWarning: `layer.add_variable` is deprecated and will be removed in a future version. Please use the `layer.add_weight()` method instead.\n",
            "  untransformed_scale = add_variable_fn(\n"
          ]
        },
        {
          "output_type": "stream",
          "name": "stdout",
          "text": [
            "10/10 [==============================] - 0s 3ms/step\n",
            "10/10 [==============================] - 0s 4ms/step\n",
            "10/10 [==============================] - 0s 4ms/step\n",
            "10/10 [==============================] - 0s 4ms/step\n",
            "10/10 [==============================] - 0s 4ms/step\n",
            "10/10 [==============================] - 0s 4ms/step\n",
            "10/10 [==============================] - 0s 4ms/step\n",
            "10/10 [==============================] - 0s 4ms/step\n",
            "10/10 [==============================] - 0s 4ms/step\n",
            "10/10 [==============================] - 0s 3ms/step\n",
            "10/10 [==============================] - 0s 3ms/step\n",
            "10/10 [==============================] - 0s 2ms/step\n",
            "10/10 [==============================] - 0s 3ms/step\n",
            "10/10 [==============================] - 0s 3ms/step\n",
            "10/10 [==============================] - 0s 3ms/step\n",
            "experiment 6\n",
            "batch 4\n",
            "samples train 375\n"
          ]
        },
        {
          "output_type": "stream",
          "name": "stderr",
          "text": [
            "/usr/local/lib/python3.9/dist-packages/tensorflow_probability/python/layers/util.py:95: UserWarning: `layer.add_variable` is deprecated and will be removed in a future version. Please use the `layer.add_weight()` method instead.\n",
            "  loc = add_variable_fn(\n",
            "/usr/local/lib/python3.9/dist-packages/tensorflow_probability/python/layers/util.py:105: UserWarning: `layer.add_variable` is deprecated and will be removed in a future version. Please use the `layer.add_weight()` method instead.\n",
            "  untransformed_scale = add_variable_fn(\n"
          ]
        },
        {
          "output_type": "stream",
          "name": "stdout",
          "text": [
            "8/8 [==============================] - 0s 4ms/step\n",
            "8/8 [==============================] - 0s 4ms/step\n",
            "8/8 [==============================] - 0s 2ms/step\n",
            "8/8 [==============================] - 0s 3ms/step\n",
            "8/8 [==============================] - 0s 3ms/step\n",
            "8/8 [==============================] - 0s 3ms/step\n",
            "8/8 [==============================] - 0s 2ms/step\n",
            "8/8 [==============================] - 0s 3ms/step\n",
            "8/8 [==============================] - 0s 3ms/step\n",
            "8/8 [==============================] - 0s 3ms/step\n",
            "8/8 [==============================] - 0s 3ms/step\n",
            "8/8 [==============================] - 0s 3ms/step\n",
            "8/8 [==============================] - 0s 3ms/step\n",
            "8/8 [==============================] - 0s 3ms/step\n",
            "8/8 [==============================] - 0s 3ms/step\n",
            "experiment 7\n",
            "batch 0\n",
            "samples train 75\n"
          ]
        },
        {
          "output_type": "stream",
          "name": "stderr",
          "text": [
            "/usr/local/lib/python3.9/dist-packages/tensorflow_probability/python/layers/util.py:95: UserWarning: `layer.add_variable` is deprecated and will be removed in a future version. Please use the `layer.add_weight()` method instead.\n",
            "  loc = add_variable_fn(\n",
            "/usr/local/lib/python3.9/dist-packages/tensorflow_probability/python/layers/util.py:105: UserWarning: `layer.add_variable` is deprecated and will be removed in a future version. Please use the `layer.add_weight()` method instead.\n",
            "  untransformed_scale = add_variable_fn(\n"
          ]
        },
        {
          "output_type": "stream",
          "name": "stdout",
          "text": [
            "17/17 [==============================] - 0s 2ms/step\n",
            "17/17 [==============================] - 0s 2ms/step\n",
            "17/17 [==============================] - 0s 2ms/step\n",
            "17/17 [==============================] - 0s 2ms/step\n",
            "17/17 [==============================] - 0s 2ms/step\n",
            "17/17 [==============================] - 0s 2ms/step\n",
            "17/17 [==============================] - 0s 2ms/step\n",
            "17/17 [==============================] - 0s 2ms/step\n",
            "17/17 [==============================] - 0s 2ms/step\n",
            "17/17 [==============================] - 0s 2ms/step\n",
            "17/17 [==============================] - 0s 2ms/step\n",
            "17/17 [==============================] - 0s 2ms/step\n",
            "17/17 [==============================] - 0s 2ms/step\n",
            "17/17 [==============================] - 0s 2ms/step\n",
            "17/17 [==============================] - 0s 2ms/step\n",
            "experiment 7\n",
            "batch 1\n",
            "samples train 150\n"
          ]
        },
        {
          "output_type": "stream",
          "name": "stderr",
          "text": [
            "/usr/local/lib/python3.9/dist-packages/tensorflow_probability/python/layers/util.py:95: UserWarning: `layer.add_variable` is deprecated and will be removed in a future version. Please use the `layer.add_weight()` method instead.\n",
            "  loc = add_variable_fn(\n",
            "/usr/local/lib/python3.9/dist-packages/tensorflow_probability/python/layers/util.py:105: UserWarning: `layer.add_variable` is deprecated and will be removed in a future version. Please use the `layer.add_weight()` method instead.\n",
            "  untransformed_scale = add_variable_fn(\n"
          ]
        },
        {
          "output_type": "stream",
          "name": "stdout",
          "text": [
            "15/15 [==============================] - 0s 2ms/step\n",
            "15/15 [==============================] - 0s 3ms/step\n",
            "15/15 [==============================] - 0s 2ms/step\n",
            "15/15 [==============================] - 0s 2ms/step\n",
            "15/15 [==============================] - 0s 2ms/step\n",
            "15/15 [==============================] - 0s 3ms/step\n",
            "15/15 [==============================] - 0s 2ms/step\n",
            "15/15 [==============================] - 0s 3ms/step\n",
            "15/15 [==============================] - 0s 2ms/step\n",
            "15/15 [==============================] - 0s 2ms/step\n",
            "15/15 [==============================] - 0s 2ms/step\n",
            "15/15 [==============================] - 0s 2ms/step\n",
            "15/15 [==============================] - 0s 3ms/step\n",
            "15/15 [==============================] - 0s 2ms/step\n",
            "15/15 [==============================] - 0s 3ms/step\n",
            "experiment 7\n",
            "batch 2\n",
            "samples train 225\n"
          ]
        },
        {
          "output_type": "stream",
          "name": "stderr",
          "text": [
            "/usr/local/lib/python3.9/dist-packages/tensorflow_probability/python/layers/util.py:95: UserWarning: `layer.add_variable` is deprecated and will be removed in a future version. Please use the `layer.add_weight()` method instead.\n",
            "  loc = add_variable_fn(\n",
            "/usr/local/lib/python3.9/dist-packages/tensorflow_probability/python/layers/util.py:105: UserWarning: `layer.add_variable` is deprecated and will be removed in a future version. Please use the `layer.add_weight()` method instead.\n",
            "  untransformed_scale = add_variable_fn(\n"
          ]
        },
        {
          "output_type": "stream",
          "name": "stdout",
          "text": [
            "12/12 [==============================] - 0s 2ms/step\n",
            "12/12 [==============================] - 0s 2ms/step\n",
            "12/12 [==============================] - 0s 3ms/step\n",
            "12/12 [==============================] - 0s 2ms/step\n",
            "12/12 [==============================] - 0s 2ms/step\n",
            "12/12 [==============================] - 0s 2ms/step\n",
            "12/12 [==============================] - 0s 2ms/step\n",
            "12/12 [==============================] - 0s 2ms/step\n",
            "12/12 [==============================] - 0s 2ms/step\n",
            "12/12 [==============================] - 0s 2ms/step\n",
            "12/12 [==============================] - 0s 2ms/step\n",
            "12/12 [==============================] - 0s 2ms/step\n",
            "12/12 [==============================] - 0s 2ms/step\n",
            "12/12 [==============================] - 0s 2ms/step\n",
            "12/12 [==============================] - 0s 2ms/step\n",
            "experiment 7\n",
            "batch 3\n",
            "samples train 300\n"
          ]
        },
        {
          "output_type": "stream",
          "name": "stderr",
          "text": [
            "/usr/local/lib/python3.9/dist-packages/tensorflow_probability/python/layers/util.py:95: UserWarning: `layer.add_variable` is deprecated and will be removed in a future version. Please use the `layer.add_weight()` method instead.\n",
            "  loc = add_variable_fn(\n",
            "/usr/local/lib/python3.9/dist-packages/tensorflow_probability/python/layers/util.py:105: UserWarning: `layer.add_variable` is deprecated and will be removed in a future version. Please use the `layer.add_weight()` method instead.\n",
            "  untransformed_scale = add_variable_fn(\n"
          ]
        },
        {
          "output_type": "stream",
          "name": "stdout",
          "text": [
            "10/10 [==============================] - 0s 2ms/step\n",
            "10/10 [==============================] - 0s 3ms/step\n",
            "10/10 [==============================] - 0s 2ms/step\n",
            "10/10 [==============================] - 0s 3ms/step\n",
            "10/10 [==============================] - 0s 3ms/step\n",
            "10/10 [==============================] - 0s 2ms/step\n",
            "10/10 [==============================] - 0s 2ms/step\n",
            "10/10 [==============================] - 0s 2ms/step\n",
            "10/10 [==============================] - 0s 3ms/step\n",
            "10/10 [==============================] - 0s 2ms/step\n",
            "10/10 [==============================] - 0s 2ms/step\n",
            "10/10 [==============================] - 0s 3ms/step\n",
            "10/10 [==============================] - 0s 3ms/step\n",
            "10/10 [==============================] - 0s 3ms/step\n",
            "10/10 [==============================] - 0s 2ms/step\n",
            "experiment 7\n",
            "batch 4\n",
            "samples train 375\n"
          ]
        },
        {
          "output_type": "stream",
          "name": "stderr",
          "text": [
            "/usr/local/lib/python3.9/dist-packages/tensorflow_probability/python/layers/util.py:95: UserWarning: `layer.add_variable` is deprecated and will be removed in a future version. Please use the `layer.add_weight()` method instead.\n",
            "  loc = add_variable_fn(\n",
            "/usr/local/lib/python3.9/dist-packages/tensorflow_probability/python/layers/util.py:105: UserWarning: `layer.add_variable` is deprecated and will be removed in a future version. Please use the `layer.add_weight()` method instead.\n",
            "  untransformed_scale = add_variable_fn(\n"
          ]
        },
        {
          "output_type": "stream",
          "name": "stdout",
          "text": [
            "8/8 [==============================] - 0s 3ms/step\n",
            "8/8 [==============================] - 0s 2ms/step\n",
            "8/8 [==============================] - 0s 4ms/step\n",
            "8/8 [==============================] - 0s 3ms/step\n",
            "8/8 [==============================] - 0s 3ms/step\n",
            "8/8 [==============================] - 0s 3ms/step\n",
            "8/8 [==============================] - 0s 3ms/step\n",
            "8/8 [==============================] - 0s 3ms/step\n",
            "8/8 [==============================] - 0s 4ms/step\n",
            "8/8 [==============================] - 0s 3ms/step\n",
            "8/8 [==============================] - 0s 4ms/step\n",
            "8/8 [==============================] - 0s 3ms/step\n",
            "8/8 [==============================] - 0s 4ms/step\n",
            "8/8 [==============================] - 0s 3ms/step\n",
            "8/8 [==============================] - 0s 4ms/step\n",
            "experiment 8\n",
            "batch 0\n",
            "samples train 75\n"
          ]
        },
        {
          "output_type": "stream",
          "name": "stderr",
          "text": [
            "/usr/local/lib/python3.9/dist-packages/tensorflow_probability/python/layers/util.py:95: UserWarning: `layer.add_variable` is deprecated and will be removed in a future version. Please use the `layer.add_weight()` method instead.\n",
            "  loc = add_variable_fn(\n",
            "/usr/local/lib/python3.9/dist-packages/tensorflow_probability/python/layers/util.py:105: UserWarning: `layer.add_variable` is deprecated and will be removed in a future version. Please use the `layer.add_weight()` method instead.\n",
            "  untransformed_scale = add_variable_fn(\n"
          ]
        },
        {
          "output_type": "stream",
          "name": "stdout",
          "text": [
            "17/17 [==============================] - 0s 2ms/step\n",
            "17/17 [==============================] - 0s 2ms/step\n",
            "17/17 [==============================] - 0s 2ms/step\n",
            "17/17 [==============================] - 0s 2ms/step\n",
            "17/17 [==============================] - 0s 2ms/step\n",
            "17/17 [==============================] - 0s 2ms/step\n",
            "17/17 [==============================] - 0s 3ms/step\n",
            "17/17 [==============================] - 0s 2ms/step\n",
            "17/17 [==============================] - 0s 2ms/step\n",
            "17/17 [==============================] - 0s 2ms/step\n",
            "17/17 [==============================] - 0s 2ms/step\n",
            "17/17 [==============================] - 0s 2ms/step\n",
            "17/17 [==============================] - 0s 2ms/step\n",
            "17/17 [==============================] - 0s 2ms/step\n",
            "17/17 [==============================] - 0s 3ms/step\n",
            "experiment 8\n",
            "batch 1\n",
            "samples train 150\n"
          ]
        },
        {
          "output_type": "stream",
          "name": "stderr",
          "text": [
            "/usr/local/lib/python3.9/dist-packages/tensorflow_probability/python/layers/util.py:95: UserWarning: `layer.add_variable` is deprecated and will be removed in a future version. Please use the `layer.add_weight()` method instead.\n",
            "  loc = add_variable_fn(\n",
            "/usr/local/lib/python3.9/dist-packages/tensorflow_probability/python/layers/util.py:105: UserWarning: `layer.add_variable` is deprecated and will be removed in a future version. Please use the `layer.add_weight()` method instead.\n",
            "  untransformed_scale = add_variable_fn(\n"
          ]
        },
        {
          "output_type": "stream",
          "name": "stdout",
          "text": [
            "15/15 [==============================] - 0s 3ms/step\n",
            "15/15 [==============================] - 0s 2ms/step\n",
            "15/15 [==============================] - 0s 2ms/step\n",
            "15/15 [==============================] - 0s 2ms/step\n",
            "15/15 [==============================] - 0s 2ms/step\n",
            "15/15 [==============================] - 0s 2ms/step\n",
            "15/15 [==============================] - 0s 2ms/step\n",
            "15/15 [==============================] - 0s 2ms/step\n",
            "15/15 [==============================] - 0s 2ms/step\n",
            "15/15 [==============================] - 0s 2ms/step\n",
            "15/15 [==============================] - 0s 6ms/step\n",
            "15/15 [==============================] - 0s 3ms/step\n",
            "15/15 [==============================] - 0s 4ms/step\n",
            "15/15 [==============================] - 0s 4ms/step\n",
            "15/15 [==============================] - 0s 3ms/step\n",
            "experiment 8\n",
            "batch 2\n",
            "samples train 225\n"
          ]
        },
        {
          "output_type": "stream",
          "name": "stderr",
          "text": [
            "/usr/local/lib/python3.9/dist-packages/tensorflow_probability/python/layers/util.py:95: UserWarning: `layer.add_variable` is deprecated and will be removed in a future version. Please use the `layer.add_weight()` method instead.\n",
            "  loc = add_variable_fn(\n",
            "/usr/local/lib/python3.9/dist-packages/tensorflow_probability/python/layers/util.py:105: UserWarning: `layer.add_variable` is deprecated and will be removed in a future version. Please use the `layer.add_weight()` method instead.\n",
            "  untransformed_scale = add_variable_fn(\n"
          ]
        },
        {
          "output_type": "stream",
          "name": "stdout",
          "text": [
            "12/12 [==============================] - 0s 2ms/step\n",
            "12/12 [==============================] - 0s 2ms/step\n",
            "12/12 [==============================] - 0s 2ms/step\n",
            "12/12 [==============================] - 0s 2ms/step\n",
            "12/12 [==============================] - 0s 2ms/step\n",
            "12/12 [==============================] - 0s 2ms/step\n",
            "12/12 [==============================] - 0s 2ms/step\n",
            "12/12 [==============================] - 0s 3ms/step\n",
            "12/12 [==============================] - 0s 2ms/step\n",
            "12/12 [==============================] - 0s 2ms/step\n",
            "12/12 [==============================] - 0s 2ms/step\n",
            "12/12 [==============================] - 0s 2ms/step\n",
            "12/12 [==============================] - 0s 2ms/step\n",
            "12/12 [==============================] - 0s 2ms/step\n",
            "12/12 [==============================] - 0s 2ms/step\n",
            "experiment 8\n",
            "batch 3\n",
            "samples train 300\n"
          ]
        },
        {
          "output_type": "stream",
          "name": "stderr",
          "text": [
            "/usr/local/lib/python3.9/dist-packages/tensorflow_probability/python/layers/util.py:95: UserWarning: `layer.add_variable` is deprecated and will be removed in a future version. Please use the `layer.add_weight()` method instead.\n",
            "  loc = add_variable_fn(\n",
            "/usr/local/lib/python3.9/dist-packages/tensorflow_probability/python/layers/util.py:105: UserWarning: `layer.add_variable` is deprecated and will be removed in a future version. Please use the `layer.add_weight()` method instead.\n",
            "  untransformed_scale = add_variable_fn(\n"
          ]
        },
        {
          "output_type": "stream",
          "name": "stdout",
          "text": [
            "10/10 [==============================] - 0s 2ms/step\n",
            "10/10 [==============================] - 0s 2ms/step\n",
            "10/10 [==============================] - 0s 2ms/step\n",
            "10/10 [==============================] - 0s 2ms/step\n",
            "10/10 [==============================] - 0s 2ms/step\n",
            "10/10 [==============================] - 0s 3ms/step\n",
            "10/10 [==============================] - 0s 2ms/step\n",
            "10/10 [==============================] - 0s 2ms/step\n",
            "10/10 [==============================] - 0s 2ms/step\n",
            "10/10 [==============================] - 0s 2ms/step\n",
            "10/10 [==============================] - 0s 2ms/step\n",
            "10/10 [==============================] - 0s 3ms/step\n",
            "10/10 [==============================] - 0s 2ms/step\n",
            "10/10 [==============================] - 0s 3ms/step\n",
            "10/10 [==============================] - 0s 2ms/step\n",
            "experiment 8\n",
            "batch 4\n",
            "samples train 375\n"
          ]
        },
        {
          "output_type": "stream",
          "name": "stderr",
          "text": [
            "/usr/local/lib/python3.9/dist-packages/tensorflow_probability/python/layers/util.py:95: UserWarning: `layer.add_variable` is deprecated and will be removed in a future version. Please use the `layer.add_weight()` method instead.\n",
            "  loc = add_variable_fn(\n",
            "/usr/local/lib/python3.9/dist-packages/tensorflow_probability/python/layers/util.py:105: UserWarning: `layer.add_variable` is deprecated and will be removed in a future version. Please use the `layer.add_weight()` method instead.\n",
            "  untransformed_scale = add_variable_fn(\n"
          ]
        },
        {
          "output_type": "stream",
          "name": "stdout",
          "text": [
            "8/8 [==============================] - 0s 3ms/step\n",
            "8/8 [==============================] - 0s 3ms/step\n",
            "8/8 [==============================] - 0s 3ms/step\n",
            "8/8 [==============================] - 0s 2ms/step\n",
            "8/8 [==============================] - 0s 3ms/step\n",
            "8/8 [==============================] - 0s 3ms/step\n",
            "8/8 [==============================] - 0s 2ms/step\n",
            "8/8 [==============================] - 0s 2ms/step\n",
            "8/8 [==============================] - 0s 3ms/step\n",
            "8/8 [==============================] - 0s 2ms/step\n",
            "8/8 [==============================] - 0s 3ms/step\n",
            "8/8 [==============================] - 0s 3ms/step\n",
            "8/8 [==============================] - 0s 2ms/step\n",
            "8/8 [==============================] - 0s 3ms/step\n",
            "8/8 [==============================] - 0s 3ms/step\n",
            "experiment 9\n",
            "batch 0\n",
            "samples train 75\n"
          ]
        },
        {
          "output_type": "stream",
          "name": "stderr",
          "text": [
            "/usr/local/lib/python3.9/dist-packages/tensorflow_probability/python/layers/util.py:95: UserWarning: `layer.add_variable` is deprecated and will be removed in a future version. Please use the `layer.add_weight()` method instead.\n",
            "  loc = add_variable_fn(\n",
            "/usr/local/lib/python3.9/dist-packages/tensorflow_probability/python/layers/util.py:105: UserWarning: `layer.add_variable` is deprecated and will be removed in a future version. Please use the `layer.add_weight()` method instead.\n",
            "  untransformed_scale = add_variable_fn(\n"
          ]
        },
        {
          "output_type": "stream",
          "name": "stdout",
          "text": [
            "17/17 [==============================] - 0s 3ms/step\n",
            "17/17 [==============================] - 0s 5ms/step\n",
            "17/17 [==============================] - 0s 3ms/step\n",
            "17/17 [==============================] - 0s 3ms/step\n",
            "17/17 [==============================] - 0s 3ms/step\n",
            "17/17 [==============================] - 0s 4ms/step\n",
            "17/17 [==============================] - 0s 3ms/step\n",
            "17/17 [==============================] - 0s 2ms/step\n",
            "17/17 [==============================] - 0s 2ms/step\n",
            "17/17 [==============================] - 0s 2ms/step\n",
            "17/17 [==============================] - 0s 2ms/step\n",
            "17/17 [==============================] - 0s 2ms/step\n",
            "17/17 [==============================] - 0s 2ms/step\n",
            "17/17 [==============================] - 0s 2ms/step\n",
            "17/17 [==============================] - 0s 2ms/step\n",
            "experiment 9\n",
            "batch 1\n",
            "samples train 150\n"
          ]
        },
        {
          "output_type": "stream",
          "name": "stderr",
          "text": [
            "/usr/local/lib/python3.9/dist-packages/tensorflow_probability/python/layers/util.py:95: UserWarning: `layer.add_variable` is deprecated and will be removed in a future version. Please use the `layer.add_weight()` method instead.\n",
            "  loc = add_variable_fn(\n",
            "/usr/local/lib/python3.9/dist-packages/tensorflow_probability/python/layers/util.py:105: UserWarning: `layer.add_variable` is deprecated and will be removed in a future version. Please use the `layer.add_weight()` method instead.\n",
            "  untransformed_scale = add_variable_fn(\n"
          ]
        },
        {
          "output_type": "stream",
          "name": "stdout",
          "text": [
            "15/15 [==============================] - 0s 2ms/step\n",
            "15/15 [==============================] - 0s 2ms/step\n",
            "15/15 [==============================] - 0s 2ms/step\n",
            "15/15 [==============================] - 0s 2ms/step\n",
            "15/15 [==============================] - 0s 2ms/step\n",
            "15/15 [==============================] - 0s 2ms/step\n",
            "15/15 [==============================] - 0s 2ms/step\n",
            "15/15 [==============================] - 0s 2ms/step\n",
            "15/15 [==============================] - 0s 2ms/step\n",
            "15/15 [==============================] - 0s 2ms/step\n",
            "15/15 [==============================] - 0s 2ms/step\n",
            "15/15 [==============================] - 0s 2ms/step\n",
            "15/15 [==============================] - 0s 2ms/step\n",
            "15/15 [==============================] - 0s 2ms/step\n",
            "15/15 [==============================] - 0s 2ms/step\n",
            "experiment 9\n",
            "batch 2\n",
            "samples train 225\n"
          ]
        },
        {
          "output_type": "stream",
          "name": "stderr",
          "text": [
            "/usr/local/lib/python3.9/dist-packages/tensorflow_probability/python/layers/util.py:95: UserWarning: `layer.add_variable` is deprecated and will be removed in a future version. Please use the `layer.add_weight()` method instead.\n",
            "  loc = add_variable_fn(\n",
            "/usr/local/lib/python3.9/dist-packages/tensorflow_probability/python/layers/util.py:105: UserWarning: `layer.add_variable` is deprecated and will be removed in a future version. Please use the `layer.add_weight()` method instead.\n",
            "  untransformed_scale = add_variable_fn(\n"
          ]
        },
        {
          "output_type": "stream",
          "name": "stdout",
          "text": [
            "12/12 [==============================] - 0s 2ms/step\n",
            "12/12 [==============================] - 0s 2ms/step\n",
            "12/12 [==============================] - 0s 2ms/step\n",
            "12/12 [==============================] - 0s 2ms/step\n",
            "12/12 [==============================] - 0s 2ms/step\n",
            "12/12 [==============================] - 0s 2ms/step\n",
            "12/12 [==============================] - 0s 2ms/step\n",
            "12/12 [==============================] - 0s 2ms/step\n",
            "12/12 [==============================] - 0s 3ms/step\n",
            "12/12 [==============================] - 0s 2ms/step\n",
            "12/12 [==============================] - 0s 2ms/step\n",
            "12/12 [==============================] - 0s 2ms/step\n",
            "12/12 [==============================] - 0s 2ms/step\n",
            "12/12 [==============================] - 0s 2ms/step\n",
            "12/12 [==============================] - 0s 2ms/step\n",
            "experiment 9\n",
            "batch 3\n",
            "samples train 300\n"
          ]
        },
        {
          "output_type": "stream",
          "name": "stderr",
          "text": [
            "/usr/local/lib/python3.9/dist-packages/tensorflow_probability/python/layers/util.py:95: UserWarning: `layer.add_variable` is deprecated and will be removed in a future version. Please use the `layer.add_weight()` method instead.\n",
            "  loc = add_variable_fn(\n",
            "/usr/local/lib/python3.9/dist-packages/tensorflow_probability/python/layers/util.py:105: UserWarning: `layer.add_variable` is deprecated and will be removed in a future version. Please use the `layer.add_weight()` method instead.\n",
            "  untransformed_scale = add_variable_fn(\n"
          ]
        },
        {
          "output_type": "stream",
          "name": "stdout",
          "text": [
            "10/10 [==============================] - 0s 2ms/step\n",
            "10/10 [==============================] - 0s 2ms/step\n",
            "10/10 [==============================] - 0s 3ms/step\n",
            "10/10 [==============================] - 0s 3ms/step\n",
            "10/10 [==============================] - 0s 3ms/step\n",
            "10/10 [==============================] - 0s 2ms/step\n",
            "10/10 [==============================] - 0s 2ms/step\n",
            "10/10 [==============================] - 0s 2ms/step\n",
            "10/10 [==============================] - 0s 2ms/step\n",
            "10/10 [==============================] - 0s 2ms/step\n",
            "10/10 [==============================] - 0s 2ms/step\n",
            "10/10 [==============================] - 0s 3ms/step\n",
            "10/10 [==============================] - 0s 2ms/step\n",
            "10/10 [==============================] - 0s 3ms/step\n",
            "10/10 [==============================] - 0s 3ms/step\n",
            "experiment 9\n",
            "batch 4\n",
            "samples train 375\n"
          ]
        },
        {
          "output_type": "stream",
          "name": "stderr",
          "text": [
            "/usr/local/lib/python3.9/dist-packages/tensorflow_probability/python/layers/util.py:95: UserWarning: `layer.add_variable` is deprecated and will be removed in a future version. Please use the `layer.add_weight()` method instead.\n",
            "  loc = add_variable_fn(\n",
            "/usr/local/lib/python3.9/dist-packages/tensorflow_probability/python/layers/util.py:105: UserWarning: `layer.add_variable` is deprecated and will be removed in a future version. Please use the `layer.add_weight()` method instead.\n",
            "  untransformed_scale = add_variable_fn(\n"
          ]
        },
        {
          "output_type": "stream",
          "name": "stdout",
          "text": [
            "8/8 [==============================] - 0s 3ms/step\n",
            "8/8 [==============================] - 0s 3ms/step\n",
            "8/8 [==============================] - 0s 2ms/step\n",
            "8/8 [==============================] - 0s 3ms/step\n",
            "8/8 [==============================] - 0s 3ms/step\n",
            "8/8 [==============================] - 0s 3ms/step\n",
            "8/8 [==============================] - 0s 3ms/step\n",
            "8/8 [==============================] - 0s 3ms/step\n",
            "8/8 [==============================] - 0s 3ms/step\n",
            "8/8 [==============================] - 0s 3ms/step\n",
            "8/8 [==============================] - 0s 3ms/step\n",
            "8/8 [==============================] - 0s 3ms/step\n",
            "8/8 [==============================] - 0s 3ms/step\n",
            "8/8 [==============================] - 0s 3ms/step\n",
            "8/8 [==============================] - 0s 3ms/step\n"
          ]
        }
      ]
    },
    {
      "cell_type": "code",
      "source": [
        "acc_test_BALD"
      ],
      "metadata": {
        "colab": {
          "base_uri": "https://localhost:8080/"
        },
        "id": "nmqfaAPAfLTU",
        "outputId": "4a4ac626-2128-46a0-8a59-7af6642d03e0"
      },
      "execution_count": 34,
      "outputs": [
        {
          "output_type": "execute_result",
          "data": {
            "text/plain": [
              "[array([0.89  , 0.88  , 0.96  , 0.9725, 0.9775, 0.    , 0.    , 0.    ]),\n",
              " array([0.875 , 0.9675, 0.9725, 0.975 , 0.975 , 0.    , 0.    , 0.    ]),\n",
              " array([0.895, 0.965, 0.97 , 0.875, 0.98 , 0.   , 0.   , 0.   ]),\n",
              " array([0.9   , 0.97  , 0.9   , 0.975 , 0.9725, 0.    , 0.    , 0.    ]),\n",
              " array([0.885 , 0.9625, 0.97  , 0.9775, 0.9725, 0.    , 0.    , 0.    ]),\n",
              " array([0.9   , 0.9325, 0.9675, 0.975 , 0.965 , 0.    , 0.    , 0.    ]),\n",
              " array([0.89  , 0.97  , 0.9675, 0.9725, 0.97  , 0.    , 0.    , 0.    ]),\n",
              " array([0.8925, 0.955 , 0.9225, 0.8975, 0.9775, 0.    , 0.    , 0.    ]),\n",
              " array([0.885 , 0.965 , 0.915 , 0.9725, 0.975 , 0.    , 0.    , 0.    ]),\n",
              " array([0.8875, 0.9675, 0.91  , 0.8725, 0.9725, 0.    , 0.    , 0.    ])]"
            ]
          },
          "metadata": {},
          "execution_count": 34
        }
      ]
    },
    {
      "cell_type": "code",
      "source": [
        "np.mean(acc_test_BALD,axis=0)[:-excluded]"
      ],
      "metadata": {
        "colab": {
          "base_uri": "https://localhost:8080/"
        },
        "id": "LtJGADaK-Y8o",
        "outputId": "acf02ac2-3375-442f-ea9d-ea072fca0f1f"
      },
      "execution_count": 35,
      "outputs": [
        {
          "output_type": "execute_result",
          "data": {
            "text/plain": [
              "array([0.89   , 0.9535 , 0.9455 , 0.9465 , 0.97375])"
            ]
          },
          "metadata": {},
          "execution_count": 35
        }
      ]
    },
    {
      "cell_type": "code",
      "source": [
        "plt.plot(n_samples[:-excluded],np.mean(acc_test_BALD,axis=0)[:-excluded])"
      ],
      "metadata": {
        "colab": {
          "base_uri": "https://localhost:8080/",
          "height": 282
        },
        "id": "zTHgmoe0bZLr",
        "outputId": "57f42d9c-0d02-4be8-c069-04a892549c21"
      },
      "execution_count": 36,
      "outputs": [
        {
          "output_type": "execute_result",
          "data": {
            "text/plain": [
              "[<matplotlib.lines.Line2D at 0x7f8cc3294d30>]"
            ]
          },
          "metadata": {},
          "execution_count": 36
        },
        {
          "output_type": "display_data",
          "data": {
            "text/plain": [
              "<Figure size 432x288 with 1 Axes>"
            ],
            "image/png": "[encoded data removed]"
          },
          "metadata": {
            "needs_background": "light"
          }
        }
      ]
    },
    {
      "cell_type": "markdown",
      "source": [
        "### Random sampling"
      ],
      "metadata": {
        "id": "h4vj6zgJQO_G"
      }
    },
    {
      "cell_type": "code",
      "source": [
        "Mean_acc_test_r=[]\n",
        "for count in range(n_experiments):\n",
        "  acc_test_r=np.zeros(len(data_train_ran))\n",
        "  for i in range(len(data_train_ran)-excluded):\n",
        "    print('experiment',count)\n",
        "    labels_tr=labels[:i+1].reshape((i*data_train_ran.shape[1]+data_train_ran.shape[1], 1))\n",
        "    x_train=np.concatenate(data_train_ran[:i+1],axis=0)\n",
        "    print('i',i)\n",
        "    print('shape',len(labels_tr))\n",
        "    model_vi=model()\n",
        "    model_vi.fit(x_train, labels_tr, epochs=150, batch_size=16,validation_data=(X_te, y_te),verbose = 0)\n",
        "    B=[]\n",
        "    for j in range(10):\n",
        "      B.append(model_vi.predict(X_te,verbose = 0))\n",
        "    predicted_proba_bayes = np.mean(np.array(B),axis=0)\n",
        "    acc_test_r[i]=accuracy_score( y_te,np.array(predicted_proba_bayes+0.5).astype(int))\n",
        "  Mean_acc_test_r.append(acc_test_r)\n",
        "\n"
      ],
      "metadata": {
        "colab": {
          "base_uri": "https://localhost:8080/"
        },
        "id": "dpZHT0p7hSmi",
        "outputId": "0ec9bcbd-4135-42bd-d8bd-e5eca9fc4960"
      },
      "execution_count": null,
      "outputs": [
        {
          "output_type": "stream",
          "name": "stdout",
          "text": [
            "experiment 0\n",
            "i 0\n",
            "shape 75\n"
          ]
        },
        {
          "output_type": "stream",
          "name": "stderr",
          "text": [
            "/usr/local/lib/python3.9/dist-packages/tensorflow_probability/python/layers/util.py:95: UserWarning: `layer.add_variable` is deprecated and will be removed in a future version. Please use the `layer.add_weight()` method instead.\n",
            "  loc = add_variable_fn(\n",
            "/usr/local/lib/python3.9/dist-packages/tensorflow_probability/python/layers/util.py:105: UserWarning: `layer.add_variable` is deprecated and will be removed in a future version. Please use the `layer.add_weight()` method instead.\n",
            "  untransformed_scale = add_variable_fn(\n"
          ]
        },
        {
          "output_type": "stream",
          "name": "stdout",
          "text": [
            "experiment 0\n",
            "i 1\n",
            "shape 150\n"
          ]
        },
        {
          "output_type": "stream",
          "name": "stderr",
          "text": [
            "/usr/local/lib/python3.9/dist-packages/tensorflow_probability/python/layers/util.py:95: UserWarning: `layer.add_variable` is deprecated and will be removed in a future version. Please use the `layer.add_weight()` method instead.\n",
            "  loc = add_variable_fn(\n",
            "/usr/local/lib/python3.9/dist-packages/tensorflow_probability/python/layers/util.py:105: UserWarning: `layer.add_variable` is deprecated and will be removed in a future version. Please use the `layer.add_weight()` method instead.\n",
            "  untransformed_scale = add_variable_fn(\n"
          ]
        },
        {
          "output_type": "stream",
          "name": "stdout",
          "text": [
            "experiment 0\n",
            "i 2\n",
            "shape 225\n"
          ]
        },
        {
          "output_type": "stream",
          "name": "stderr",
          "text": [
            "/usr/local/lib/python3.9/dist-packages/tensorflow_probability/python/layers/util.py:95: UserWarning: `layer.add_variable` is deprecated and will be removed in a future version. Please use the `layer.add_weight()` method instead.\n",
            "  loc = add_variable_fn(\n",
            "/usr/local/lib/python3.9/dist-packages/tensorflow_probability/python/layers/util.py:105: UserWarning: `layer.add_variable` is deprecated and will be removed in a future version. Please use the `layer.add_weight()` method instead.\n",
            "  untransformed_scale = add_variable_fn(\n"
          ]
        },
        {
          "output_type": "stream",
          "name": "stdout",
          "text": [
            "experiment 0\n",
            "i 3\n",
            "shape 300\n"
          ]
        },
        {
          "output_type": "stream",
          "name": "stderr",
          "text": [
            "/usr/local/lib/python3.9/dist-packages/tensorflow_probability/python/layers/util.py:95: UserWarning: `layer.add_variable` is deprecated and will be removed in a future version. Please use the `layer.add_weight()` method instead.\n",
            "  loc = add_variable_fn(\n",
            "/usr/local/lib/python3.9/dist-packages/tensorflow_probability/python/layers/util.py:105: UserWarning: `layer.add_variable` is deprecated and will be removed in a future version. Please use the `layer.add_weight()` method instead.\n",
            "  untransformed_scale = add_variable_fn(\n"
          ]
        },
        {
          "output_type": "stream",
          "name": "stdout",
          "text": [
            "experiment 0\n",
            "i 4\n",
            "shape 375\n"
          ]
        },
        {
          "output_type": "stream",
          "name": "stderr",
          "text": [
            "/usr/local/lib/python3.9/dist-packages/tensorflow_probability/python/layers/util.py:95: UserWarning: `layer.add_variable` is deprecated and will be removed in a future version. Please use the `layer.add_weight()` method instead.\n",
            "  loc = add_variable_fn(\n",
            "/usr/local/lib/python3.9/dist-packages/tensorflow_probability/python/layers/util.py:105: UserWarning: `layer.add_variable` is deprecated and will be removed in a future version. Please use the `layer.add_weight()` method instead.\n",
            "  untransformed_scale = add_variable_fn(\n"
          ]
        },
        {
          "output_type": "stream",
          "name": "stdout",
          "text": [
            "experiment 1\n",
            "i 0\n",
            "shape 75\n"
          ]
        },
        {
          "output_type": "stream",
          "name": "stderr",
          "text": [
            "/usr/local/lib/python3.9/dist-packages/tensorflow_probability/python/layers/util.py:95: UserWarning: `layer.add_variable` is deprecated and will be removed in a future version. Please use the `layer.add_weight()` method instead.\n",
            "  loc = add_variable_fn(\n",
            "/usr/local/lib/python3.9/dist-packages/tensorflow_probability/python/layers/util.py:105: UserWarning: `layer.add_variable` is deprecated and will be removed in a future version. Please use the `layer.add_weight()` method instead.\n",
            "  untransformed_scale = add_variable_fn(\n"
          ]
        },
        {
          "output_type": "stream",
          "name": "stdout",
          "text": [
            "experiment 1\n",
            "i 1\n",
            "shape 150\n"
          ]
        },
        {
          "output_type": "stream",
          "name": "stderr",
          "text": [
            "/usr/local/lib/python3.9/dist-packages/tensorflow_probability/python/layers/util.py:95: UserWarning: `layer.add_variable` is deprecated and will be removed in a future version. Please use the `layer.add_weight()` method instead.\n",
            "  loc = add_variable_fn(\n",
            "/usr/local/lib/python3.9/dist-packages/tensorflow_probability/python/layers/util.py:105: UserWarning: `layer.add_variable` is deprecated and will be removed in a future version. Please use the `layer.add_weight()` method instead.\n",
            "  untransformed_scale = add_variable_fn(\n"
          ]
        },
        {
          "output_type": "stream",
          "name": "stdout",
          "text": [
            "experiment 1\n",
            "i 2\n",
            "shape 225\n"
          ]
        },
        {
          "output_type": "stream",
          "name": "stderr",
          "text": [
            "/usr/local/lib/python3.9/dist-packages/tensorflow_probability/python/layers/util.py:95: UserWarning: `layer.add_variable` is deprecated and will be removed in a future version. Please use the `layer.add_weight()` method instead.\n",
            "  loc = add_variable_fn(\n",
            "/usr/local/lib/python3.9/dist-packages/tensorflow_probability/python/layers/util.py:105: UserWarning: `layer.add_variable` is deprecated and will be removed in a future version. Please use the `layer.add_weight()` method instead.\n",
            "  untransformed_scale = add_variable_fn(\n"
          ]
        },
        {
          "output_type": "stream",
          "name": "stdout",
          "text": [
            "experiment 1\n",
            "i 3\n",
            "shape 300\n"
          ]
        },
        {
          "output_type": "stream",
          "name": "stderr",
          "text": [
            "/usr/local/lib/python3.9/dist-packages/tensorflow_probability/python/layers/util.py:95: UserWarning: `layer.add_variable` is deprecated and will be removed in a future version. Please use the `layer.add_weight()` method instead.\n",
            "  loc = add_variable_fn(\n",
            "/usr/local/lib/python3.9/dist-packages/tensorflow_probability/python/layers/util.py:105: UserWarning: `layer.add_variable` is deprecated and will be removed in a future version. Please use the `layer.add_weight()` method instead.\n",
            "  untransformed_scale = add_variable_fn(\n"
          ]
        },
        {
          "output_type": "stream",
          "name": "stdout",
          "text": [
            "experiment 1\n",
            "i 4\n",
            "shape 375\n"
          ]
        },
        {
          "output_type": "stream",
          "name": "stderr",
          "text": [
            "/usr/local/lib/python3.9/dist-packages/tensorflow_probability/python/layers/util.py:95: UserWarning: `layer.add_variable` is deprecated and will be removed in a future version. Please use the `layer.add_weight()` method instead.\n",
            "  loc = add_variable_fn(\n",
            "/usr/local/lib/python3.9/dist-packages/tensorflow_probability/python/layers/util.py:105: UserWarning: `layer.add_variable` is deprecated and will be removed in a future version. Please use the `layer.add_weight()` method instead.\n",
            "  untransformed_scale = add_variable_fn(\n"
          ]
        },
        {
          "output_type": "stream",
          "name": "stdout",
          "text": [
            "experiment 2\n",
            "i 0\n",
            "shape 75\n"
          ]
        },
        {
          "output_type": "stream",
          "name": "stderr",
          "text": [
            "/usr/local/lib/python3.9/dist-packages/tensorflow_probability/python/layers/util.py:95: UserWarning: `layer.add_variable` is deprecated and will be removed in a future version. Please use the `layer.add_weight()` method instead.\n",
            "  loc = add_variable_fn(\n",
            "/usr/local/lib/python3.9/dist-packages/tensorflow_probability/python/layers/util.py:105: UserWarning: `layer.add_variable` is deprecated and will be removed in a future version. Please use the `layer.add_weight()` method instead.\n",
            "  untransformed_scale = add_variable_fn(\n"
          ]
        }
      ]
    },
    {
      "cell_type": "code",
      "source": [
        "Mean_acc_test_r"
      ],
      "metadata": {
        "id": "VBh2ljfHSzLX"
      },
      "execution_count": null,
      "outputs": []
    },
    {
      "cell_type": "code",
      "source": [
        "x=n_samples[:-excluded]\n",
        "y=np.mean(acc_test_BALD,axis=0)[:-excluded]\n",
        "ystd=np.std(acc_test_BALD,axis=0)[:-excluded]\n",
        "\n",
        "y2=np.mean(Mean_acc_test_r,axis=0)[:-excluded]\n",
        "y2std=np.std(Mean_acc_test_r,axis=0)[:-excluded]\n",
        "\n",
        "\n",
        "fig,ax = plt.subplots()\n",
        "ax.plot(x, y,label='BALD')\n",
        "ax.plot(x, y2,label='Random Sampling')\n",
        "\n",
        "ax.set_xlabel('Training samples',fontsize=14)\n",
        "ax.set_ylabel('Test Accuracy',fontsize=14)\n",
        "ax.legend(loc='lower right',fontsize=12)\n",
        "# create a confidence band of +/- 10% error\n",
        "y_lower = y-ystd\n",
        "y_upper = y+ystd\n",
        "\n",
        "y2_lower = y2-y2std\n",
        "y2_upper = y2+y2std\n",
        "ax.set_xlim(75,375)\n",
        "ax.tick_params(axis='both', labelsize=12)\n",
        "# plot our confidence band\n",
        "ax.fill_between(x, y_lower, y_upper, alpha=0.3)\n",
        "ax.fill_between(x, y2_lower, y2_upper, alpha=0.4)\n",
        "plt.tight_layout()\n",
        "#plt.savefig(\"active_learning.pdf\")"
      ],
      "metadata": {
        "id": "2qJ3FxQEaKCD"
      },
      "execution_count": null,
      "outputs": []
    }
  ],
  "metadata": {
    "colab": {
      "provenance": [],
      "include_colab_link": true
    },
    "kernelspec": {
      "display_name": "Python 3",
      "name": "python3"
    },
    "language_info": {
      "name": "python"
    }
  },
  "nbformat": 4,
  "nbformat_minor": 0
}